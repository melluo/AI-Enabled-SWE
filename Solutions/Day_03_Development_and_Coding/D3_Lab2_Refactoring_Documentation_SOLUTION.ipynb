{
 "cells": [
  {
   "cell_type": "markdown",
   "metadata": {},
   "source": [
    "# Day 3 - Lab 2: Refactoring & Documentation (Solution)\n",
    "\n",
    "**Objective:** Use an LLM to refactor a complex Python function to improve its readability and maintainability, and then generate comprehensive, high-quality documentation for the project.\n",
    "\n",
    "**Introduction:**\n",
    "This solution notebook provides the complete prompts for the refactoring and documentation lab. It demonstrates how to guide an LLM to perform specific code quality improvements and generate structured documentation from multiple sources.\n",
    "\n",
    "For definitions of key terms used in this lab, please refer to the [GLOSSARY.md](../../GLOSSARY.md)."
   ]
  },
  {
   "cell_type": "markdown",
   "metadata": {},
   "source": [
    "## Step 1: Setup"
   ]
  },
  {
   "cell_type": "code",
   "execution_count": 1,
   "metadata": {},
   "outputs": [
    {
     "name": "stdout",
     "output_type": "stream",
     "text": [
      "✅ LLM Client configured: Using 'openai' with model 'gpt-4.1'\n"
     ]
    }
   ],
   "source": [
    "import sys\n",
    "import os\n",
    "\n",
    "# Add the project's root directory to the Python path to ensure 'utils' can be imported.\n",
    "try:\n",
    "    project_root = os.path.abspath(os.path.join(os.getcwd(), '..', '..'))\n",
    "except IndexError:\n",
    "    project_root = os.path.abspath(os.path.join(os.getcwd()))\n",
    "\n",
    "if project_root not in sys.path:\n",
    "    sys.path.insert(0, project_root)\n",
    "\n",
    "from utils import setup_llm_client, get_completion, save_artifact, load_artifact, clean_llm_output\n",
    "\n",
    "client, model_name, api_provider = setup_llm_client(model_name=\"gpt-4.1\")"
   ]
  },
  {
   "cell_type": "markdown",
   "metadata": {},
   "source": [
    "## Step 2: The Code to Improve"
   ]
  },
  {
   "cell_type": "code",
   "execution_count": 2,
   "metadata": {},
   "outputs": [],
   "source": [
    "bad_code = \"\"\"\n",
    "def process_data(data, operation):\n",
    "    if operation == 'sum':\n",
    "        total = 0\n",
    "        for i in data:\n",
    "            total += i\n",
    "        return total\n",
    "    elif operation == 'average':\n",
    "        total = 0\n",
    "        for i in data:\n",
    "            total += i\n",
    "        return total / len(data)\n",
    "    elif operation == 'max':\n",
    "        max_val = data[0]\n",
    "        for i in data:\n",
    "            if i > max_val:\n",
    "                max_val = i\n",
    "        return max_val\n",
    "\"\"\""
   ]
  },
  {
   "cell_type": "markdown",
   "metadata": {},
   "source": [
    "## Step 3: The Challenges - Solutions"
   ]
  },
  {
   "cell_type": "markdown",
   "metadata": {},
   "source": [
    "### Challenge 1 (Foundational): Refactoring the Code\n",
    "\n",
    "**Explanation:**\n",
    "This prompt is highly specific about the desired outcome. Instead of just saying \"improve this code,\" we give the LLM concrete principles to follow: apply the 'Single Responsibility Principle,' use built-in functions, and add type hints. This guidance transforms a vague request into a precise engineering task, leading to a much higher-quality output."
   ]
  },
  {
   "cell_type": "code",
   "execution_count": 3,
   "metadata": {},
   "outputs": [
    {
     "name": "stdout",
     "output_type": "stream",
     "text": [
      "--- Refactoring Code ---\n",
      "from typing import List, Callable\n",
      "\n",
      "def sum_data(data: List[float]) -> float:\n",
      "    return sum(data)\n",
      "\n",
      "def average_data(data: List[float]) -> float:\n",
      "    if not data:\n",
      "        raise ValueError(\"Cannot compute average of empty list.\")\n",
      "    return sum(data) / len(data)\n",
      "\n",
      "def max_data(data: List[float]) -> float:\n",
      "    if not data:\n",
      "        raise ValueError(\"Cannot compute max of empty list.\")\n",
      "    return max(data)\n",
      "\n",
      "def get_operation_function(operation: str) -> Callable[[List[float]], float]:\n",
      "    operations = {\n",
      "        'sum': sum_data,\n",
      "        'average': average_data,\n",
      "        'max': max_data,\n",
      "    }\n",
      "    if operation not in operations:\n",
      "        raise ValueError(f\"Unsupported operation: {operation}\")\n",
      "    return operations[operation]\n",
      "\n",
      "def process_data(data: List[float], operation: str) -> float:\n",
      "    func = get_operation_function(operation)\n",
      "    return func(data)\n"
     ]
    }
   ],
   "source": [
    "refactor_prompt = f\"\"\"\n",
    "You are a senior Python developer who writes clean, efficient, and maintainable code.\n",
    "\n",
    "Please refactor the following Python code. Apply the 'Single Responsibility Principle' by breaking the main function into smaller, more focused functions. Also, use modern Python features like built-in functions and add type hints.\n",
    "\n",
    "**Code to Refactor:**\n",
    "```python\n",
    "{bad_code}\n",
    "```\n",
    "\n",
    "Output only the refactored Python code.\n",
    "\"\"\"\n",
    "\n",
    "print(\"--- Refactoring Code ---\")\n",
    "refactored_code = get_completion(refactor_prompt, client, model_name, api_provider)\n",
    "cleaned_code = clean_llm_output(refactored_code, language='python')\n",
    "print(cleaned_code)"
   ]
  },
  {
   "cell_type": "markdown",
   "metadata": {},
   "source": [
    "### Challenge 2 (Intermediate): Generating Docstrings\n",
    "\n",
    "**Explanation:**\n",
    "This prompt builds on the previous step. We provide the newly refactored code and ask for another specific, structured output: Google-style docstrings. LLMs are exceptionally good at this type of structured text generation. They can parse the function signature to identify the arguments and return types and generate well-formatted, descriptive documentation."
   ]
  },
  {
   "cell_type": "code",
   "execution_count": 4,
   "metadata": {},
   "outputs": [
    {
     "name": "stdout",
     "output_type": "stream",
     "text": [
      "--- Generating Docstrings ---\n",
      "from typing import List, Callable\n",
      "\n",
      "def sum_data(data: List[float]) -> float:\n",
      "    \"\"\"Calculates the sum of the elements in the given list.\n",
      "\n",
      "    Args:\n",
      "        data (List[float]): A list of numeric values to sum.\n",
      "\n",
      "    Returns:\n",
      "        float: The sum of all values in the list.\n",
      "    \"\"\"\n",
      "    return sum(data)\n",
      "\n",
      "def average_data(data: List[float]) -> float:\n",
      "    \"\"\"Calculates the average of the elements in the given list.\n",
      "\n",
      "    Args:\n",
      "        data (List[float]): A list of numeric values to average.\n",
      "\n",
      "    Returns:\n",
      "        float: The average of all values in the list.\n",
      "\n",
      "    Raises:\n",
      "        ValueError: If the input list is empty.\n",
      "    \"\"\"\n",
      "    if not data:\n",
      "        raise ValueError(\"Cannot compute average of empty list.\")\n",
      "    return sum(data) / len(data)\n",
      "\n",
      "def max_data(data: List[float]) -> float:\n",
      "    \"\"\"Finds the maximum value in the given list.\n",
      "\n",
      "    Args:\n",
      "        data (List[float]): A list of numeric values.\n",
      "\n",
      "    Returns:\n",
      "        float: The maximum value in the list.\n",
      "\n",
      "    Raises:\n",
      "        ValueError: If the input list is empty.\n",
      "    \"\"\"\n",
      "    if not data:\n",
      "        raise ValueError(\"Cannot compute max of empty list.\")\n",
      "    return max(data)\n",
      "\n",
      "def get_operation_function(operation: str) -> Callable[[List[float]], float]:\n",
      "    \"\"\"Retrieves a function that performs the specified operation on a list of numbers.\n",
      "\n",
      "    Args:\n",
      "        operation (str): The operation to perform. Supported values are 'sum', 'average', and 'max'.\n",
      "\n",
      "    Returns:\n",
      "        Callable[[List[float]], float]: A function that takes a list of floats and returns a float result.\n",
      "\n",
      "    Raises:\n",
      "        ValueError: If the operation is not supported.\n",
      "    \"\"\"\n",
      "    operations = {\n",
      "        'sum': sum_data,\n",
      "        'average': average_data,\n",
      "        'max': max_data,\n",
      "    }\n",
      "    if operation not in operations:\n",
      "        raise ValueError(f\"Unsupported operation: {operation}\")\n",
      "    return operations[operation]\n",
      "\n",
      "def process_data(data: List[float], operation: str) -> float:\n",
      "    \"\"\"Processes the data using the specified operation.\n",
      "\n",
      "    Args:\n",
      "        data (List[float]): The list of numeric values to process.\n",
      "        operation (str): The operation to perform on the data. Supported values are 'sum', 'average', and 'max'.\n",
      "\n",
      "    Returns:\n",
      "        float: The result of applying the operation to the data.\n",
      "\n",
      "    Raises:\n",
      "        ValueError: If the operation is not supported or the data is invalid for the operation.\n",
      "    \"\"\"\n",
      "    func = get_operation_function(operation)\n",
      "    return func(data)\n"
     ]
    }
   ],
   "source": [
    "docstring_prompt = f\"\"\"\n",
    "You are a Python developer who writes excellent documentation.\n",
    "\n",
    "Add Google-style docstrings to the following Python code. Each docstring should include a description of the function, its arguments (Args:), and what it returns (Returns:).\n",
    "\n",
    "**Python Code:**\n",
    "```python\n",
    "{cleaned_code}\n",
    "```\n",
    "\n",
    "Output the complete Python code with the added docstrings.\n",
    "\"\"\"\n",
    "\n",
    "print(\"--- Generating Docstrings ---\")\n",
    "code_with_docstrings = get_completion(docstring_prompt, client, model_name, api_provider)\n",
    "cleaned_code_with_docstrings = clean_llm_output(code_with_docstrings, language='python')\n",
    "print(cleaned_code_with_docstrings)"
   ]
  },
  {
   "cell_type": "markdown",
   "metadata": {},
   "source": [
    "### Challenge 3 (Advanced): Generating a Project README\n",
    "\n",
    "**Explanation:**\n",
    "Using an LLM to generate docstrings and a README is a massive productivity boost. It excels at this structured writing task, freeing up the developer to focus on complex logic while still ensuring the project is well-documented and easy for others to understand. This prompt is a synthesis task. We provide the LLM with both high-level requirements (the PRD) and low-level implementation details (the API source code). The LLM's job is to merge these two sources of information into a single, comprehensive `README.md` file, complete with overviews, feature lists, and practical `curl` examples derived from the code."
   ]
  },
  {
   "cell_type": "code",
   "execution_count": 5,
   "metadata": {},
   "outputs": [
    {
     "name": "stdout",
     "output_type": "stream",
     "text": [
      "--- Generating Project README ---\n",
      "# Example Product: Onboarding Platform API\n",
      "\n",
      "## Overview\n",
      "\n",
      "This open-source project provides a backend REST API for a streamlined employee onboarding platform. The purpose of the platform is to reduce onboarding friction, enhance productivity, and improve engagement for new hires by offering a centralized, user-friendly system. Designed with input from new hires, hiring managers, and HR coordinators, the platform aims to consolidate onboarding tasks, reduce repetitive HR questions, and provide a single source of truth for onboarding documentation and checklists.\n",
      "\n",
      "## Features\n",
      "\n",
      "- **User Management:** Create and retrieve user profiles with roles (e.g., New Hire, Hiring Manager, HR Coordinator).\n",
      "- **Onboarding Task Management:** (Database-ready) Associate onboarding tasks with users, tracking status and due dates.\n",
      "- **Secure Access:** Prepares for company SSO integration (future work).\n",
      "- **Performance & Accessibility:** Designed for fast response times and WCAG 2.1 AA accessibility compliance.\n",
      "- **Scalable:** Supports up to 500 concurrent users (configurable).\n",
      "\n",
      "## API Endpoints\n",
      "\n",
      "### 1. Create a New User\n",
      "\n",
      "**POST** `/users/`\n",
      "\n",
      "Creates a new user profile.\n",
      "\n",
      "#### Example `curl` Request\n",
      "✅ Successfully saved artifact to: README.md\n"
     ]
    }
   ],
   "source": [
    "# Load the necessary context files\n",
    "prd_content = load_artifact(\"artifacts/day1_prd.md\")\n",
    "api_code = load_artifact(\"app/main.py\")\n",
    "\n",
    "readme_prompt = f\"\"\"\n",
    "You are a technical writer creating a README.md file for a new open-source project.\n",
    "\n",
    "Use the provided Product Requirements Document (PRD) for high-level context and the FastAPI source code for technical details.\n",
    "\n",
    "**PRD Context:**\n",
    "<prd>\n",
    "{prd_content}\n",
    "</prd>\n",
    "\n",
    "**API Source Code:**\n",
    "<code>\n",
    "{api_code}\n",
    "</code>\n",
    "\n",
    "Generate a complete README.md file with the following sections:\n",
    "- Project Title\n",
    "- Overview (Summarize the project's purpose from the PRD)\n",
    "- Features\n",
    "- API Endpoints (List the available endpoints and provide a `curl` example for each one, including the POST request with a JSON body)\n",
    "- Setup and Installation (Provide basic instructions on how to run the FastAPI app with uvicorn)\n",
    "\"\"\"\n",
    "\n",
    "print(\"--- Generating Project README ---\")\n",
    "if prd_content and api_code:\n",
    "    readme_content = get_completion(readme_prompt, client, model_name, api_provider)\n",
    "    cleaned_readme = clean_llm_output(readme_content, language='markdown')\n",
    "    print(cleaned_readme)\n",
    "    save_artifact(cleaned_readme, \"README.md\")\n",
    "else:\n",
    "    print(\"Skipping README generation because PRD or API code is missing.\")"
   ]
  },
  {
   "cell_type": "markdown",
   "metadata": {},
   "source": [
    "## Lab Conclusion\n",
    "\n",
    "Well done! You have used an LLM to perform two of the most valuable code quality tasks: refactoring and documentation. You've seen how AI can help transform messy code into a clean, maintainable structure and how it can generate comprehensive documentation from high-level project artifacts and source code. These skills are a massive productivity multiplier for any development team.\n",
    "\n",
    "> **Key Takeaway:** LLMs excel at understanding and generating structured text, whether that structure is code or documentation. Providing a clear 'before' state (the bad code) and a clear goal (the refactoring principles) allows the AI to perform complex code transformation and documentation tasks efficiently."
   ]
  }
 ],
 "metadata": {
  "kernelspec": {
   "display_name": "Python 3",
   "language": "python",
   "name": "python3"
  },
  "language_info": {
   "codemirror_mode": {
    "name": "ipython",
    "version": 3
   },
   "file_extension": ".py",
   "mimetype": "text/x-python",
   "name": "python",
   "nbconvert_exporter": "python",
   "pygments_lexer": "ipython3",
   "version": "3.11.13"
  }
 },
 "nbformat": 4,
 "nbformat_minor": 4
}
