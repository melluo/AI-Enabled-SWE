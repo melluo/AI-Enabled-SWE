{
  "cells": [
    {
      "cell_type": "markdown",
      "metadata": {},
      "source": [
        "# Day 4 - Lab 2: Generating a CI/CD Pipeline (Solution)\n",
        "\n",
        "**Objective:** Use an LLM to generate all necessary configuration files to create an automated Continuous Integration (CI) pipeline for the FastAPI application using Docker and GitHub Actions.\n",
        "\n",
        "**Introduction:**\n",
        "This solution notebook provides the complete prompts for generating the `requirements.txt`, `Dockerfile`, and GitHub Actions workflow files. It demonstrates how to prompt for specific, structured configuration-as-code artifacts."
      ]
    },
    {
      "cell_type": "markdown",
      "metadata": {},
      "source": [
        "## Step 1: Setup"
      ]
    },
    {
      "cell_type": "markdown",
      "metadata": {},
      "source": [
        "## Step 2: The Challenges - Solutions"
      ]
    },
    {
      "cell_type": "markdown",
      "metadata": {},
      "source": [
        "### Challenge 1 (Foundational): Generating a `requirements.txt`\n",
        "\n",
        "**Explanation:**\n",
        "This prompt is an analysis task. We provide the application's source code as context and ask the LLM to parse the import statements to identify external libraries. This is much faster and less error-prone than manually creating the file."
      ]
    },
    {
      "cell_type": "code",
      "execution_count": null,
      "metadata": {},
      "outputs": [],
      "source": [
        "import sys\n",
        "import os\n",
        "\n",
        "# Add the project's root directory to the Python path\n",
        "try:\n",
        "    # This works when running as a script\n",
        "    project_root = os.path.abspath(os.path.join(os.path.dirname(__file__), '..', '..'))\n",
        "except NameError:\n",
        "    # This works when running in an interactive environment (like a notebook)\n",
        "    # We go up two levels from the notebook's directory to the project root.\n",
        "    project_root = os.path.abspath(os.path.join(os.getcwd(), '..', '..'))\n",
        "\n",
        "if project_root not in sys.path:\n",
        "    sys.path.insert(0, project_root)"
      ]
    },
    {
      "cell_type": "code",
      "execution_count": null,
      "metadata": {},
      "outputs": [],
      "source": [
        "requirements_prompt = f\"\"\"You are a Python dependency analysis tool. Analyze the following Python code and generate a `requirements.txt` file listing all the external libraries imported.\n",
        "\n",
        "Include versions for key libraries like fastapi, uvicorn, sqlalchemy, and pydantic.\n",
        "\n",
        "--- PYTHON CODE ---\n",
        "{app_code}\n",
        "--- END CODE ---\n",
        "\"\"\"\n",
        "\n",
        "print(\"--- Generating requirements.txt ---\")\n",
        "if app_code:\n",
        "    requirements_content = get_completion(requirements_prompt, client, model_name, api_provider)\n",
        "    print(requirements_content)\n",
        "    save_artifact(requirements_content, \"requirements.txt\")\n",
        "else:\n",
        "    print(\"Skipping requirements generation because app code is missing.\")"
      ]
    },
    {
      "cell_type": "markdown",
      "metadata": {},
      "source": [
        "### Challenge 2 (Intermediate): Generating a `Dockerfile`\n",
        "\n",
        "**Explanation:**\n",
        "This prompt asks for a specific, best-practice `Dockerfile`. By explicitly requesting a \"multi-stage\" build, a \"slim\" base image, and a \"non-root user,\" we guide the LLM to generate a configuration that is both efficient and secure, saving the developer from having to remember these important details."
      ]
    },
    {
      "cell_type": "code",
      "execution_count": null,
      "metadata": {},
      "outputs": [],
      "source": [
        "dockerfile_prompt = \"\"\"You are a DevOps expert specializing in containerization. Generate a best-practice, multi-stage `Dockerfile` for a production Python FastAPI application.\n",
        "\n",
        "The Dockerfile must:\n",
        "1.  Use `python:3.11-slim` as the base image.\n",
        "2.  Have a `builder` stage to install dependencies from `requirements.txt` into a virtual environment.\n",
        "3.  The final stage should copy the application code and the virtual environment from the builder.\n",
        "4.  Create and run as a non-root user named `appuser` for security.\n",
        "5.  Expose port 8000.\n",
        "6.  The final `CMD` should run the application using `uvicorn`.\n",
        "\"\"\"\n",
        "\n",
        "print(\"--- Generating Dockerfile ---\")\n",
        "dockerfile_content = get_completion(dockerfile_prompt, client, model_name, api_provider)\n",
        "print(dockerfile_content)\n",
        "\n",
        "if dockerfile_content:\n",
        "    save_artifact(dockerfile_content, \"Dockerfile\")"
      ]
    },
    {
      "cell_type": "markdown",
      "metadata": {},
      "source": [
        "### Challenge 3 (Advanced): Generating the GitHub Actions Workflow\n",
        "\n",
        "**Explanation:**\n",
        "This prompt generates a complete CI workflow in YAML format. We are very specific about the required structure: the `on` trigger, the `jobs` definition, and the `steps` within the job. This level of detail ensures the LLM generates a syntactically correct and logically complete workflow file that is ready to be committed to the repository."
      ]
    },
    {
      "cell_type": "code",
      "execution_count": null,
      "metadata": {},
      "outputs": [],
      "source": [
        "ci_workflow_prompt = \"\"\"You are a CI/CD specialist. Generate a complete GitHub Actions workflow file named `ci.yml` for a Python FastAPI project.\n",
        "\n",
        "The workflow must:\n",
        "- Be named 'Build and Test'.\n",
        "- Trigger on every `push` to the `main` branch.\n",
        "- Define one job named `build-and-test` that runs on `ubuntu-latest`.\n",
        "- The job must have the following sequential steps:\n",
        "  1. `actions/checkout@v3` to check out the repository code.\n",
        "  2. `actions/setup-python@v4` to set up Python 3.11.\n",
        "  3. A step to install dependencies using pip from `requirements.txt`.\n",
        "  4. A step to run the test suite using `pytest`.\n",
        "\"\"\"\n",
        "\n",
        "print(\"--- Generating GitHub Actions Workflow ---\")\n",
        "ci_workflow_content = get_completion(ci_workflow_prompt, client, model_name, api_provider)\n",
        "print(ci_workflow_content)\n",
        "\n",
        "if ci_workflow_content:\n",
        "    # Clean up the response if it's wrapped in markdown fences\n",
        "    if '```' in ci_workflow_content:\n",
        "        ci_workflow_content = ci_workflow_content.split('```')[1].lstrip('yaml').strip()\n",
        "    save_artifact(ci_workflow_content, \".github/workflows/ci.yml\")"
      ]
    }
  ],
  "metadata": {
    "kernelspec": {
      "display_name": "Python 3 (ipykernel)",
      "language": "python",
      "name": "python3"
    },
    "language_info": {
      "codemirror_mode": {
        "name": "ipython",
        "version": 3
      },
      "file_extension": ".py",
      "mimetype": "text/x-python",
      "name": "python",
      "nbconvert_exporter": "python",
      "pygments_lexer": "ipython3",
      "version": "3.12.7"
    }
  },
  "nbformat": 4,
  "nbformat_minor": 4
}