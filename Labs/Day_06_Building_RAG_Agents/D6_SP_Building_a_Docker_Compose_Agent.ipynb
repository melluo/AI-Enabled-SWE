{
  "cells": [
    {
      "cell_type": "markdown",
      "metadata": {},
      "source": [
        "# Day 6 - Self-Paced Practice Lab: Building a Docker Compose Agent\n",
        "\n",
        "**Objective:** Reinforce the concepts of tool-using agents and LangGraph by building a simple agent that can interact with local Docker Compose files.\n",
        "\n",
        "**Estimated Time:** 45 minutes (Self-Paced)\n",
        "\n",
        "**Reference:** This lab is inspired by the concepts in the `docker/compose-for-agents` repository.\n",
        "\n",
        "**Introduction:**\n",
        "A powerful use case for AI agents is interacting with local development environments. In this lab, you will build a simplified version of a Docker Compose agent. It will have tools to read files from your local disk and use its reasoning ability to answer questions about your Docker setup. This is a practical example of how agents can become useful developer assistants."
      ]
    },
    {
      "cell_type": "markdown",
      "metadata": {},
      "source": [
        "## Step 1: Setup\n",
        "\n",
        "We will set up our environment and create a sample `docker-compose.yml` file for our agent to interact with."
      ]
    },
    {
      "cell_type": "code",
      "execution_count": null,
      "metadata": {},
      "outputs": [],
      "source": [
        "import sys\n",
        "import os\n",
        "\n",
        "# Add the project's root directory to the Python path\n",
        "try:\n",
        "    # This works when running as a script\n",
        "    project_root = os.path.abspath(os.path.join(os.path.dirname(__file__), '..', '..'))\n",
        "except NameError:\n",
        "    # This works when running in an interactive environment (like a notebook)\n",
        "    # We go up two levels from the notebook's directory to the project root.\n",
        "    project_root = os.path.abspath(os.path.join(os.getcwd(), '..', '..'))\n",
        "\n",
        "if project_root not in sys.path:\n",
        "    sys.path.insert(0, project_root)"
      ]
    },
    {
      "cell_type": "code",
      "execution_count": null,
      "metadata": {},
      "outputs": [],
      "source": [
        "import os\n",
        "from langchain_core.tools import tool\n",
        "from typing import List\n",
        "from langchain.agents import create_tool_calling_agent, AgentExecutor\n",
        "from langchain_core.prompts import ChatPromptTemplate\n",
        "from langchain_openai import ChatOpenAI\n",
        "from utils import setup_llm_client, save_artifact\n",
        "\n",
        "client, model_name, api_provider = setup_llm_client(model_name=\"gpt-4o\")\n",
        "llm = ChatOpenAI(model=model_name)\n",
        "\n",
        "# Create a sample docker-compose file\n",
        "docker_compose_content = \"\"\"\n",
        "version: '3.8'\n",
        "services:\n",
        "  web:\n",
        "    image: 'nginx:latest'\n",
        "    ports:\n",
        "      - '8080:80'\n",
        "  database:\n",
        "    image: 'postgres:13'\n",
        "    environment:\n",
        "      POSTGRES_PASSWORD: mysecretpassword\n",
        "\"\"\"\n",
        "save_artifact(docker_compose_content, \"docker-compose.yml\")"
      ]
    },
    {
      "cell_type": "markdown",
      "metadata": {},
      "source": [
        "## Step 2: Your Task\n",
        "\n",
        "**Task:** Build a LangChain agent that can list and read Docker Compose files in the current directory.\n",
        "\n",
        "**Instructions:**\n",
        "1.  **Create Tools:**\n",
        "    * Define a Python function named `list_compose_files` that uses `os.listdir()` to find all files ending with `.yml` or `.yaml` in the current directory. Decorate it with `@tool`.\n",
        "    * Define a second function named `read_compose_file` that takes a `filename` as an argument, reads its content, and returns it as a string. Decorate it with `@tool`.\n",
        "2.  **Create the Agent:**\n",
        "    * Create a list containing your two new tools.\n",
        "    * Create a prompt template suitable for an agent that helps with Docker Compose files.\n",
        "    * Build the agent and `AgentExecutor`.\n",
        "3.  **Test the Agent:**\n",
        "    * Invoke the agent and ask it, \"What docker-compose files are in this directory?\"\n",
        "    * In a second invocation, ask it, \"What services are defined in `docker-compose.yml`?\" Observe how it first reads the file and then uses the content to answer the question."
      ]
    },
    {
      "cell_type": "code",
      "execution_count": null,
      "metadata": {},
      "outputs": [],
      "source": [
        "# TODO: 1. Define the list_compose_files tool\n",
        "@tool\n",
        "def list_compose_files() -> List[str]:\n",
        "    \"\"\"Lists all Docker Compose YAML files in the current directory.\"\"\"\n",
        "    # Your implementation here\n",
        "    return []\n",
        "\n",
        "# TODO: 2. Define the read_compose_file tool\n",
        "@tool\n",
        "def read_compose_file(filename: str) -> str:\n",
        "    \"\"\"Reads the content of a specified Docker Compose file.\"\"\"\n",
        "    # Your implementation here\n",
        "    return \"\"\n",
        "\n",
        "# TODO: 3. Create the list of tools\n",
        "docker_tools = [] # Your list here\n",
        "\n",
        "# TODO: 4. Create the prompt, agent, and executor\n",
        "docker_agent_prompt = ChatPromptTemplate.from_messages([\n",
        "    (\"system\", \"You are an expert assistant for Docker Compose.\"),\n",
        "    (\"user\", \"{input}\"),\n",
        "    (\"placeholder\", \"{agent_scratchpad}\"),\n",
        "])\n",
        "\n",
        "docker_agent = None # Your agent creation code here\n",
        "docker_agent_executor = None # Your executor creation code here\n",
        "\n",
        "# TODO: 5. Test the agent\n",
        "print(\"--- Testing agent: Listing files ---\")\n",
        "list_result = docker_agent_executor.invoke({\"input\": \"What docker-compose files are in this directory?\"})\n",
        "print(list_result['output'])\n",
        "\n",
        "print(\"\\n--- Testing agent: Reading a file ---\")\n",
        "read_result = docker_agent_executor.invoke({\"input\": \"What services are defined in docker-compose.yml?\"})\n",
        "print(read_result['output'])"
      ]
    },
    {
      "cell_type": "markdown",
      "metadata": {},
      "source": [
        "## Lab Conclusion\n",
        "\n",
        "Excellent! You have built a practical developer assistant that can interact with your local file system. This lab demonstrates how easily you can extend an agent's capabilities by giving it custom tools, allowing it to perform tasks far beyond simple text generation. You could imagine extending this agent with tools to run `docker-compose up` or `docker-compose down`, turning it into a fully functional DevOps assistant."
      ]
    }
  ],
  "metadata": {
    "kernelspec": {
      "display_name": "Python 3 (ipykernel)",
      "language": "python",
      "name": "python3"
    },
    "language_info": {
      "codemirror_mode": {
        "name": "ipython",
        "version": 3
      },
      "file_extension": ".py",
      "mimetype": "text/x-python",
      "name": "python",
      "nbconvert_exporter": "python",
      "pygments_lexer": "ipython3",
      "version": "3.12.7"
    }
  },
  "nbformat": 4,
  "nbformat_minor": 4
}