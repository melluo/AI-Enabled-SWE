{
  "cells": [
    {
      "cell_type": "markdown",
      "metadata": {},
      "source": [
        "# Day 7 - Self-Paced Lab: Advanced Code Refactoring with MCP\n",
        "\n",
        "**Objective:** Apply the MCP-powered agent built in Lab 7.1 to refactor a new, complex, and poorly written code snippet using few-shot prompting.\n",
        "\n",
        "**Estimated Time:** 45 minutes (Self-Paced)\n",
        "\n",
        "**Introduction:**\n",
        "A true test of an advanced tool is applying it to a new problem. In this lab, you will use the sophisticated, context-aware refactoring agent you built in the core lab to clean up a new piece of poorly written code. This will reinforce the power of providing structured context and few-shot examples to guide an LLM on complex tasks."
      ]
    },
    {
      "cell_type": "markdown",
      "metadata": {},
      "source": [
        "## Step 1: Setup\n",
        "\n",
        "First, we will reconstruct the `refactoring_agent` from Lab 7.1. In a real project, this agent might be a shared tool. For this lab, we will redefine it here."
      ]
    },
    {
      "cell_type": "markdown",
      "metadata": {},
      "source": [
        "## Step 2: The Problem - Poorly Written Code\n",
        "\n",
        "Here is a Python function that violates multiple SOLID principles. It fetches data from a hardcoded URL, processes it, and formats it for display, all in one monolithic block. This is the code you need to refactor."
      ]
    },
    {
      "cell_type": "code",
      "execution_count": null,
      "metadata": {},
      "outputs": [],
      "source": [
        "import sys\n",
        "import os\n",
        "\n",
        "# Add the project's root directory to the Python path\n",
        "try:\n",
        "    # This works when running as a script\n",
        "    project_root = os.path.abspath(os.path.join(os.path.dirname(__file__), '..', '..'))\n",
        "except NameError:\n",
        "    # This works when running in an interactive environment (like a notebook)\n",
        "    # We go up two levels from the notebook's directory to the project root.\n",
        "    project_root = os.path.abspath(os.path.join(os.getcwd(), '..', '..'))\n",
        "\n",
        "if project_root not in sys.path:\n",
        "    sys.path.insert(0, project_root)"
      ]
    },
    {
      "cell_type": "code",
      "execution_count": null,
      "metadata": {},
      "outputs": [],
      "source": [
        "poorly_written_code = \"\"\"\n",
        "import requests\n",
        "import json\n",
        "\n",
        "def process_user_data():\n",
        "    # Fetches, processes, and formats user data all in one function\n",
        "    res = requests.get(\"https://jsonplaceholder.typicode.com/users\")\n",
        "    if res.status_code == 200:\n",
        "        users = res.json()\n",
        "        output = []\n",
        "        for user in users:\n",
        "            if user['address']['zipcode'].startswith('5'):\n",
        "                output.append(f\"{user['name']} ({user['email']}) lives in {user['address']['city']}\")\n",
        "        return '\\n'.join(output)\n",
        "    return None\n",
        "\"\"\""
      ]
    },
    {
      "cell_type": "markdown",
      "metadata": {},
      "source": [
        "## Step 3: Your Task\n",
        "\n",
        "**Task:** Your goal is to use the `refactoring_agent` to clean up the `poorly_written_code`. To do this effectively, you must provide it with a rich, structured context that includes a \"few-shot\" example of good code.\n",
        "\n",
        "**Instructions:**\n",
        "1.  Define a string variable containing a simple, well-written function. This will be your `few_shot_example` to show the agent the desired coding style.\n",
        "2.  Construct a single, complex input dictionary to pass to the `refactoring_agent.invoke()` method.\n",
        "3.  This dictionary must contain keys that match the `variable_name` of each context builder you defined for the agent:\n",
        "    * `user_request`: A clear request, e.g., \"Please refactor the provided code following the instructions and style example.\"\n",
        "    * `code_to_refactor`: The `poorly_written_code` string.\n",
        "    * `refactoring_instructions`: Specific instructions, e.g., \"Refactor this into three separate functions: `fetch_data`, `process_data`, and `format_output`. Add full type hints and Google-style docstrings.\"\n",
        "    * `few_shot_example`: The example of a well-written function you created.\n",
        "4.  Invoke the agent with this dictionary and print the result. Analyze the output to see how the agent used all the provided context to produce a high-quality, refactored result."
      ]
    },
    {
      "cell_type": "code",
      "execution_count": null,
      "metadata": {},
      "outputs": [],
      "source": [
        "# TODO: 1. Define a few-shot example of a well-written function.\n",
        "good_code_example = \"\"\"\n",
        "def add_numbers(a: int, b: int) -> int:\n",
        "    \\\"\\\"\\\"Adds two integers and returns the result.\\n\\n    Args:\n",
        "        a: The first integer.\n",
        "        b: The second integer.\\n\\n    Returns:\n",
        "        The sum of the two integers.\\n    \\\"\\\"\\\"\n",
        "    return a + b\n",
        "\"\"\"\n",
        "\n",
        "# TODO: 2. Construct the complex input dictionary for the agent.\n",
        "refactoring_input = {\n",
        "    # Your keys and values here\n",
        "}\n",
        "\n",
        "print(\"--- Invoking Advanced Refactoring Agent ---\")\n",
        "if refactoring_agent:\n",
        "    # TODO: 3. Invoke the agent with your input dictionary.\n",
        "    refactored_output = \"\"\n",
        "    print(refactored_output)\n",
        "else:\n",
        "    print(\"Agent not ready.\")"
      ]
    }
  ],
  "metadata": {
    "kernelspec": {
      "display_name": "Python 3 (ipykernel)",
      "language": "python",
      "name": "python3"
    },
    "language_info": {
      "codemirror_mode": {
        "name": "ipython",
        "version": 3
      },
      "file_extension": ".py",
      "mimetype": "text/x-python",
      "name": "python",
      "nbconvert_exporter": "python",
      "pygments_lexer": "ipython3",
      "version": "3.12.7"
    }
  },
  "nbformat": 4,
  "nbformat_minor": 4
}