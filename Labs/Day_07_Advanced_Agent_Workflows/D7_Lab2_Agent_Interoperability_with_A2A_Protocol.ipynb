{
 "cells": [
  {
   "cell_type": "markdown",
   "metadata": {},
   "source": [
    "# Day 7 - Lab 2: Agent Interoperability with A2A Protocol\n\n",
    "**Objective:** To provide students with hands-on experience implementing the A2A Protocol, enabling them to build two distinct agents that can discover and communicate with each other in a standardized way.\n\n",
    "**Estimated Time:** 135 minutes\n\n",
    "**Introduction:**\n",
    "For agents to collaborate effectively without human intervention, they need a shared language—a standard protocol. The Agent2Agent (A2A) Protocol provides this standard, allowing agents to discover each other's capabilities and communicate securely. In this lab, you will build two separate agents: a 'Responder' that offers a service and a 'Requester' that consumes it. Finally, you will integrate this communication into a high-level LangChain agent, bridging the gap between low-level protocols and agentic reasoning.\n\n",
    "For definitions of key terms used in this lab, please refer to the [GLOSSARY.md](../../GLOSSARY.md)."
   ]
  },
  {
   "cell_type": "markdown",
   "metadata": {},
   "source": [
    "## Step 1: Setup\n\n",
    "We will install the `a2a-protocol` library. This lab is unique because it requires running two separate Python scripts simultaneously. You will need to run the Responder agent in one terminal and the Requester agent in another.\n\n",
    "**Model Selection:**\n",
    "For the final challenge, where we integrate A2A into a LangChain agent, a model with strong tool-using capabilities like `gpt-4.1`, `o3`, or `gemini-2.5-pro` is recommended."
   ]
  },
  {
   "cell_type": "code",
   "metadata": {},
   "source": [
    "import sys\n",
    "import os\n",
    "\n",
    "# Add the project's root directory to the Python path\n",
    "try:\n",
    "    project_root = os.path.abspath(os.path.join(os.getcwd(), '..', '..'))\n",
    "except IndexError:\n",
    "    project_root = os.path.abspath(os.path.join(os.getcwd()))\n",
    "\n",
    "if project_root not in sys.path:\n",
    "    sys.path.insert(0, project_root)\n",
    "\n",
    "import importlib\n",
    "def install_if_missing(package):\n",
    "    try:\n",
    "        importlib.import_module(package)\n",
    "    except ImportError:\n",
    "        print(f\"{package} not found, installing...\")\n",
    "        import subprocess\n",
    "        subprocess.check_call([sys.executable, \"-m\", \"pip\", \"install\", \"-q\", package])\n",
    "\n",
    "install_if_missing('a2a_protocol')\n",
    "\n",
    "from utils import setup_llm_client, save_artifact\n",
    "client, model_name, api_provider = setup_llm_client(model_name=\"gpt-4o\")"
   ]
  },
  {
   "cell_type": "markdown",
   "metadata": {},
   "source": [
    "## Step 2: The Challenges\n\n",
    "These challenges involve creating and running separate Python scripts. You will write the code in the cells below, and then save and execute them from your terminal."
   ]
  },
  {
   "cell_type": "markdown",
   "metadata": {},
   "source": [
    "### Challenge 1 (Foundational): Implementing the Responder Agent\n\n",
    "**Task:** Create a simple 'Responder' agent that offers a service over the A2A protocol. This agent will act as the 'server' in our interaction.\n\n",
    "**Instructions:**\n",
    "1.  Create the code for a Python script named `a2a_responder.py`.\n",
    "2.  Define a simple Python function, `calculate_task_complexity`, that takes two integer arguments (`steps` and `priority`) and returns a string.\n",
    "3.  Import `Responder` and `Service` from `a2a_protocol`.\n",
    "4.  Create a `Service` object, wrapping your `calculate_task_complexity` function.\n",
    "5.  Instantiate the `Responder`, giving it a unique name and adding your service to it.\n",
    "6.  Start the responder using `responder.start()`.\n",
    "7.  Save this script to a file.\n\n",
    "**To Run:** Open a terminal, navigate to your project directory, and run `python a2a_responder.py`. It should start up and wait for connections."
   ]
  },
  {
   "cell_type": "code",
   "metadata": {},
   "source": [
    "responder_code = \"\"\"# a2a_responder.py\n",
    "import time\n",
    "from a2a_protocol import Responder, Service\n",
    "\n",
    "# TODO: 1. Define the function that will be our service.\n",
    "def calculate_task_complexity(steps: int, priority: int) -> str:\n",
    "    # Your logic here. For example, complexity = steps * priority\n",
    "    # Return a descriptive string.\n",
    "    return \"\"\n",
    "\n",
    "def main():\n",
    "    print(\"Initializing Responder Agent...\")\n",
    "    \n",
    "    # TODO: 2. Create a Service object from the function.\n",
    "    complexity_service = None # Your code here\n",
    "    \n",
    "    # TODO: 3. Instantiate the Responder.\n",
    "    responder = None # Give it a name and register the service.\n",
    "    \n",
    "    try:\n",
    "        # TODO: 4. Start the responder.\n",
    "        print(f\"Responder '{responder.name}' started at {responder.address}\")\n",
    "        # Keep the script alive to listen for requests\n",
    "        while True:\n",
    "            time.sleep(1)\n",
    "    except KeyboardInterrupt:\n",
    "        print(\"\\nShutting down responder...\")\n",
    "        responder.stop()\n",
    "\n",
    "if __name__ == \"__main__\":\n",
    "    main()\n",
    "\"\"\"\n",
    "\n",
    "save_artifact(responder_code, \"a2a_responder.py\")\n",
    "print(\"Saved 'a2a_responder.py'. Run it in a separate terminal.\")"
   ]
  },
  {
   "cell_type": "markdown",
   "metadata": {},
   "source": [
    "### Challenge 2 (Intermediate): Implementing the Requester Agent\n\n",
    "**Task:** Create a 'Requester' agent that connects to the Responder, discovers its services, and invokes one.\n\n",
    "**Instructions:**\n",
    "1.  Create the code for a Python script named `a2a_requester.py`.\n",
    "2.  Import `Requester` from `a2a_protocol`.\n",
    "3.  Instantiate the `Requester`.\n",
    "4.  Use `requester.discover_responders()` to find the running Responder agent.\n",
    "5.  Connect to the first discovered responder and use `responder_proxy.discover_services()` to see what it offers.\n",
    "6.  Invoke the `calculate_task_complexity` service with some sample data.\n",
    "7.  Print the result.\n\n",
    "**To Run:** In a *second* terminal (while the responder is still running), execute `python a2a_requester.py`."
   ]
  },
  {
   "cell_type": "code",
   "metadata": {},
   "source": [
    "requester_code = \"\"\"# a2a_requester.py\n",
    "import asyncio\n",
    "from a2a_protocol import Requester\n",
    "\n",
    "async def main():\n",
    "    print(\"Initializing Requester Agent...\")\n",
    "    # TODO: 1. Instantiate the Requester\n",
    "    requester = None # Your code here\n",
    "\n",
    "    print(\"Discovering responders on the network...\")\n",
    "    # TODO: 2. Discover responders. This may take a few seconds.\n",
    "    responders = [] # Your code here\n",
    "\n",
    "    if not responders:\n",
    "        print(\"No responders found. Is the a2a_responder.py script running?\")\n",
    "        return\n",
    "\n",
    "    # Connect to the first responder found\n",
    "    responder_proxy = responders[0]\n",
    "    print(f\"Connected to responder: {responder_proxy.name}\")\n",
    "\n",
    "    # TODO: 3. Discover the services offered by the responder.\n",
    "    services = [] # Your code here\n",
    "    print(f\"Discovered services: {services}\")\n",
    "\n",
    "    if 'calculate_task_complexity' in services:\n",
    "        print(\"\\nInvoking 'calculate_task_complexity' service...\")\n",
    "        # TODO: 4. Invoke the service with keyword arguments.\n",
    "        result = None # Your code here\n",
    "        print(f\"Service responded with: {result}\")\n",
    "    else:\n",
    "        print(\"The required service was not found.\")\n",
    "\n",
    "if __name__ == \"__main__\":\n",
    "    asyncio.run(main())\n",
    "\"\"\"\n",
    "\n",
    "save_artifact(requester_code, \"a2a_requester.py\")\n",
    "print(\"Saved 'a2a_requester.py'. Run it in a second terminal while the responder is running.\")"
   ]
  },
  {
   "cell_type": "markdown",
   "metadata": {},
   "source": [
    "### Challenge 3 (Advanced): Integrating A2A as a LangChain Tool\n\n",
    "**Task:** Bridge the gap between the low-level A2A protocol and a high-level reasoning agent by wrapping the A2A client in a LangChain tool.\n\n",
    "**Instructions:**\n",
    "1.  Import the necessary LangChain components (`@tool`, `AgentExecutor`, etc.).\n",
    "2.  Define a new function, `get_task_complexity`, that takes `steps` and `priority` as arguments.\n",
    "3.  Inside this function, place the A2A Requester logic from Challenge 2. It should connect, discover, and invoke the service, returning the final result.\n",
    "4.  Decorate this function with LangChain's `@tool` decorator and give it a descriptive docstring.\n",
    "5.  Create a LangChain agent and provide it with this new tool.\n",
    "6.  Invoke the agent with a high-level natural language prompt, like: `\"How complex is a task with 8 steps and a priority level of 5?\"`\n\n",
    "**Expected Quality:** A seamless workflow where a high-level LangChain agent uses its reasoning to call a tool, which in turn uses the A2A protocol to communicate with another specialized agent to get the job done."
   ]
  },
  {
   "cell_type": "code",
   "metadata": {},
   "source": [
    "# TODO: Write the code for the LangChain agent with the A2A-powered tool.\n",
    "# This will be a single script/cell that you can run after starting the responder.\n"
   ]
  },
  {
   "cell_type": "markdown",
   "metadata": {},
   "source": [
    "## Lab Conclusion\n\n",
    "Excellent work! You have successfully implemented the Agent2Agent protocol, creating two distinct agents that can communicate in a standardized way. More importantly, you integrated this low-level communication into a high-level LangChain agent, demonstrating how specialized, protocol-driven agents can be exposed as tools for more general-purpose reasoning agents. This is a key architectural pattern for building complex, interoperable multi-agent systems."
   ]
  }
 ],
 "metadata": {
  "kernelspec": {
   "display_name": "Python 3 (ipykernel)",
   "language": "python",
   "name": "python3"
  },
  "language_info": {
   "codemirror_mode": {
    "name": "ipython",
    "version": 3
   },
   "file_extension": ".py",
   "mimetype": "text/x-python",
   "name": "python",
   "nbconvert_exporter": "python",
   "pygments_lexer": "ipython3",
   "version": "3.11.9"
  }
 },
 "nbformat": 4,
 "nbformat_minor": 5
}
