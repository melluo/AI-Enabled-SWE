{
  "cells": [
    {
      "cell_type": "markdown",
      "metadata": {},
      "source": [
        "# Day 5 - Self-Paced Practice Lab: The AI Travel Agent\n",
        "\n",
        "**Objective:** Reinforce the concept of a tool-using agent by applying it to a new, practical problem: planning a trip.\n",
        "\n",
        "**Estimated Time:** 45 minutes (Self-Paced)\n",
        "\n",
        "**Introduction:**\n",
        "This optional lab challenges you to build a simple AI Travel Agent. You will give it access to a web search tool and ask it to perform a multi-step research task to create a travel itinerary. This requires the agent to make multiple, distinct calls to its tool to gather all the necessary information before synthesizing a final answer."
      ]
    },
    {
      "cell_type": "markdown",
      "metadata": {},
      "source": [
        "## Step 1: Setup\n",
        "\n",
        "We will set up our environment and the LangChain agent components, just as we did in the core lab."
      ]
    },
    {
      "cell_type": "code",
      "execution_count": null,
      "metadata": {},
      "outputs": [],
      "source": [
        "import sys\n",
        "import os\n",
        "\n",
        "# Add the project's root directory to the Python path\n",
        "try:\n",
        "    # This works when running as a script\n",
        "    project_root = os.path.abspath(os.path.join(os.path.dirname(__file__), '..', '..'))\n",
        "except NameError:\n",
        "    # This works when running in an interactive environment (like a notebook)\n",
        "    # We go up two levels from the notebook's directory to the project root.\n",
        "    project_root = os.path.abspath(os.path.join(os.getcwd(), '..', '..'))\n",
        "\n",
        "if project_root not in sys.path:\n",
        "    sys.path.insert(0, project_root)"
      ]
    },
    {
      "cell_type": "code",
      "execution_count": null,
      "metadata": {},
      "outputs": [],
      "source": [
        "from langchain_community.tools.tavily_search import TavilySearchResults\n",
        "from langchain.agents import create_tool_calling_agent, AgentExecutor\n",
        "from langchain_core.prompts import ChatPromptTemplate\n",
        "from langchain_openai import ChatOpenAI\n",
        "from utils import setup_llm_client\n",
        "\n",
        "# We will use the OpenAI provider for this lab\n",
        "client, model_name, api_provider = setup_llm_client(model_name=\"gpt-4o\")\n",
        "llm = ChatOpenAI(model=model_name)"
      ]
    },
    {
      "cell_type": "markdown",
      "metadata": {},
      "source": [
        "## Step 2: The Problem Statement\n",
        "\n",
        "Your task is to build an agent that can plan a 3-day trip to Paris, France."
      ]
    },
    {
      "cell_type": "markdown",
      "metadata": {},
      "source": [
        "## Step 3: Your Task\n",
        "\n",
        "**Task:** Build a LangChain agent that uses the Tavily Search tool to create a complete travel itinerary.\n",
        "\n",
        "**Instructions:**\n",
        "1.  Instantiate the `TavilySearchResults` tool.\n",
        "2.  Create a prompt template suitable for a travel planning agent. It should encourage the agent to be thorough.\n",
        "3.  Create the agent and `AgentExecutor`.\n",
        "4.  Create a detailed query string that asks the agent to perform several distinct research tasks:\n",
        "    * Find two different flight options from New York (JFK) to Paris (CDG).\n",
        "    * Suggest one tourist activity for each of the three days.\n",
        "    * Find one highly-rated restaurant near the Eiffel Tower.\n",
        "5.  Invoke the agent with your query and observe how it makes multiple calls to the search tool to gather all the requested information before providing a final, synthesized itinerary."
      ]
    },
    {
      "cell_type": "code",
      "execution_count": null,
      "metadata": {},
      "outputs": [],
      "source": [
        "# TODO: 1. Instantiate the tool\n",
        "search_tool = None # Your code here\n",
        "tools = [search_tool]\n",
        "\n",
        "# TODO: 2. Create the prompt template\n",
        "travel_agent_prompt = ChatPromptTemplate.from_messages([\n",
        "    (\"system\", \"You are a helpful travel agent. You are thorough and provide detailed itineraries.\"),\n",
        "    (\"user\", \"{input}\"),\n",
        "    (\"placeholder\", \"{agent_scratchpad}\"),\n",
        "])\n",
        "\n",
        "# TODO: 3. Create the agent and executor\n",
        "travel_agent = None # Your agent creation code here\n",
        "travel_agent_executor = None # Your executor creation code here\n",
        "\n",
        "# TODO: 4. Define the detailed query\n",
        "trip_query = \"\"\"\n",
        "# Your detailed query here\n",
        "\"\"\"\n",
        "\n",
        "# 5. Invoke the agent\n",
        "print(\"--- Planning Trip to Paris ---\")\n",
        "trip_result = travel_agent_executor.invoke({\"input\": trip_query})\n",
        "\n",
        "print(\"\\n--- Final Itinerary ---\")\n",
        "print(trip_result['output'])"
      ]
    },
    {
      "cell_type": "markdown",
      "metadata": {},
      "source": [
        "## Lab Conclusion\n",
        "\n",
        "Well done! You have successfully built a practical, tool-using agent that can perform a multi-step research task. This lab reinforces how agents can break down a complex query into smaller, manageable steps, use their tools to gather information for each step, and then synthesize the results into a comprehensive final answer. This is a powerful pattern for building sophisticated AI assistants."
      ]
    }
  ],
  "metadata": {
    "kernelspec": {
      "display_name": "Python 3 (ipykernel)",
      "language": "python",
      "name": "python3"
    },
    "language_info": {
      "codemirror_mode": {
        "name": "ipython",
        "version": 3
      },
      "file_extension": ".py",
      "mimetype": "text/x-python",
      "name": "python",
      "nbconvert_exporter": "python",
      "pygments_lexer": "ipython3",
      "version": "3.12.7"
    }
  },
  "nbformat": 4,
  "nbformat_minor": 4
}