{
  "cells": [
    {
      "cell_type": "markdown",
      "metadata": {},
      "source": [
        "# Day 5 - Lab 2: Plan-and-Execute & Multi-Agent Systems\n",
        "\n",
        "**Objective:** Explore advanced agent architectures, including the plan-and-execute model (SMOL-style) and conversational multi-agent systems using Microsoft's AutoGen.\n",
        "\n",
        "**Estimated Time:** 135 minutes\n",
        "\n",
        "**Introduction:**\n",
        "In the previous lab, you built agents that could use tools. Now, we will explore how to orchestrate more complex agent behaviors. First, you will build a \"plan-and-execute\" agent that first thinks about a problem and then writes the code. Second, you will use the AutoGen framework to create a team of AI agents that can collaborate on a task through conversation."
      ]
    },
    {
      "cell_type": "markdown",
      "metadata": {},
      "source": [
        "## Step 1: Setup\n",
        "\n",
        "We will need to install the `pyautogen` library for the second part of this lab."
      ]
    },
    {
      "cell_type": "code",
      "execution_count": null,
      "metadata": {},
      "outputs": [],
      "source": [
        "import sys\n",
        "import os\n",
        "\n",
        "# Add the project's root directory to the Python path\n",
        "try:\n",
        "    # This works when running as a script\n",
        "    project_root = os.path.abspath(os.path.join(os.path.dirname(__file__), '..', '..'))\n",
        "except NameError:\n",
        "    # This works when running in an interactive environment (like a notebook)\n",
        "    # We go up two levels from the notebook's directory to the project root.\n",
        "    project_root = os.path.abspath(os.path.join(os.getcwd(), '..', '..'))\n",
        "\n",
        "if project_root not in sys.path:\n",
        "    sys.path.insert(0, project_root)"
      ]
    },
    {
      "cell_type": "code",
      "execution_count": null,
      "metadata": {},
      "outputs": [],
      "source": [
        "# This helper will install packages if they are not found\n",
        "import importlib\n",
        "def install_if_missing(package):\n",
        "    try:\n",
        "        importlib.import_module(package)\n",
        "    except ImportError:\n",
        "        print(f\"{package} not found, installing...\")\n",
        "        %pip install -q {package}\n",
        "\n",
        "install_if_missing('pyautogen')\n",
        "\n",
        "from utils import setup_llm_client, get_completion, save_artifact\n",
        "import autogen\n",
        "import os\n",
        "\n",
        "# We will use the OpenAI provider for this lab as AutoGen is optimized for it.\n",
        "client, model_name, api_provider = setup_llm_client(model_name=\"gpt-4o\")"
      ]
    },
    {
      "cell_type": "markdown",
      "metadata": {},
      "source": [
        "## Step 2: The Challenges"
      ]
    },
    {
      "cell_type": "markdown",
      "metadata": {},
      "source": [
        "### Challenge 1 (Foundational): A SMOL-style Plan-and-Execute Agent\n",
        "\n",
        "**Task:** Create a two-step agent that first generates a detailed plan (a 'spec') for a Python function and then uses that plan to write the code.\n",
        "\n",
        "**Instructions:**\n",
        "1.  Define a high-level goal, such as: \"Create a Python function that takes a list of strings and returns a new list containing only the strings that are palindromes.\"\n",
        "2.  **Planner Agent:** Write a prompt that asks the LLM to act as a senior software architect. It should take the high-level goal and produce a detailed specification for the function, including the function signature, parameters, return value, and step-by-step logic.\n",
        "3.  **Coder Agent:** Write a second prompt. This prompt should take the detailed specification from the Planner Agent as its *only* context and instruct the LLM to write the Python code that implements the spec.\n",
        "\n",
        "**Expected Quality:** A two-stage generation process that separates the 'planning' from the 'doing', resulting in a well-defined Python function."
      ]
    },
    {
      "cell_type": "code",
      "execution_count": null,
      "metadata": {},
      "outputs": [],
      "source": [
        "high_level_goal = \"Create a Python function that takes a list of strings and returns a new list containing only the strings that are palindromes.\"\n",
        "\n",
        "# TODO: 1. Write the prompt for the Planner Agent.\n",
        "# It should take the high_level_goal and produce a detailed function specification.\n",
        "planner_prompt = f\"\"\"\n",
        "# Your prompt here\n",
        "\"\"\"\n",
        "\n",
        "print(\"--- Planner Agent Generating Spec ---\")\n",
        "function_spec = get_completion(planner_prompt, client, model_name, api_provider)\n",
        "print(function_spec)\n",
        "\n",
        "# TODO: 2. Write the prompt for the Coder Agent.\n",
        "# It should take the function_spec as context and write the final Python code.\n",
        "coder_prompt = f\"\"\"\n",
        "# Your prompt here\n",
        "\"\"\"\n",
        "\n",
        "print(\"\\n--- Coder Agent Generating Code ---\")\n",
        "generated_function = get_completion(coder_prompt, client, model_name, api_provider)\n",
        "print(generated_function)"
      ]
    },
    {
      "cell_type": "markdown",
      "metadata": {},
      "source": [
        "### Challenge 2 (Intermediate): A Three-Agent AutoGen Team\n",
        "\n",
        "**Task:** Use Microsoft's AutoGen framework to create a conversational team of three agents: a Product Manager, a Developer, and a User Proxy.\n",
        "\n",
        "**Instructions:**\n",
        "1.  Define a `config_list` for AutoGen, which tells it which model to use.\n",
        "2.  Create a `UserProxyAgent`. This agent represents you, the human user. Set its `human_input_mode` to `TERMINATE` so the conversation stops after a solution is proposed.\n",
        "3.  Create an `AssistantAgent` named \"ProductManager\". Give it a system message defining its role (e.g., \"You are a Product Manager. Your job is to clarify requirements and create a plan.\").\n",
        "4.  Create another `AssistantAgent` named \"Developer\". Give it a system message defining its role (e.g., \"You are a senior Python developer. You write code based on the Product Manager's plan.\").\n",
        "5.  Create a `GroupChat` with all three agents and a `GroupChatManager`.\n",
        "6.  Initiate the chat with a feature request from the user proxy, like \"Add a feature to our API to calculate the complexity of a password.\"\n",
        "\n",
        "**Expected Quality:** A conversational transcript showing the Product Manager clarifying the task, the Developer writing the code, and the process terminating successfully."
      ]
    },
    {
      "cell_type": "code",
      "execution_count": null,
      "metadata": {},
      "outputs": [],
      "source": [
        "# TODO: 1. Define the config_list for the LLM.\n",
        "# Tip: This should be a list containing a dictionary.\n",
        "config_list = [] # Your config list here\n",
        "\n",
        "# TODO: 2. Create the UserProxyAgent.\n",
        "# Tip: Use autogen.UserProxyAgent and set the human_input_mode.\n",
        "user_proxy = None # Your agent here\n",
        "\n",
        "# TODO: 3. Create the ProductManager agent.\n",
        "# Tip: Use autogen.AssistantAgent and provide a system_message.\n",
        "product_manager = None # Your agent here\n",
        "\n",
        "# TODO: 4. Create the Developer agent.\n",
        "developer = None # Your agent here\n",
        "\n",
        "# TODO: 5. Create the GroupChat and GroupChatManager.\n",
        "groupchat = None # Your group chat here\n",
        "manager = None # Your manager here\n",
        "\n",
        "# TODO: 6. Initiate the chat with a feature request.\n",
        "feature_request = \"Add a feature to our API to calculate the complexity of a password based on length, and the presence of uppercase, lowercase, numbers, and symbols.\"\n",
        "# user_proxy.initiate_chat(...)"
      ]
    },
    {
      "cell_type": "markdown",
      "metadata": {},
      "source": [
        "### Challenge 3 (Advanced): Multi-Agent System with a Code Reviewer\n",
        "\n",
        "**Task:** Add a fourth agent, the `CodeReviewer`, to your AutoGen team. The conversation must now continue until the reviewer formally approves the developer's code.\n",
        "\n",
        "**Instructions:**\n",
        "1.  Keep the three agents from the previous challenge.\n",
        "2.  Create a new `AssistantAgent` named \"CodeReviewer\". Its system message should instruct it to review Python code for quality, correctness, and adherence to best practices. It must end its review with the word \"APPROVED\" if the code is satisfactory.\n",
        "3.  Modify the `UserProxyAgent`'s `is_termination_msg` property. This function should now check if the reviewer's last message contains the word \"APPROVED\".\n",
        "4.  Create a new `GroupChat` with all four agents.\n",
        "5.  Initiate the chat with the same feature request. Observe the conversation loop: the developer writes code, the reviewer critiques it, the developer revises the code, and the process repeats until the reviewer approves.\n",
        "\n",
        "**Expected Quality:** A longer, more complex conversational transcript showing a collaborative loop of coding and reviewing, demonstrating a more realistic and robust development workflow."
      ]
    },
    {
      "cell_type": "code",
      "execution_count": null,
      "metadata": {},
      "outputs": [],
      "source": [
        "# TODO: 1. Create the CodeReviewer agent.\n",
        "code_reviewer = None # Your agent here\n",
        "\n",
        "# TODO: 2. Create a new UserProxyAgent with a custom termination message check.\n",
        "# Tip: The `is_termination_msg` property accepts a lambda function.\n",
        "user_proxy_with_review = autogen.UserProxyAgent(\n",
        "    name=\"UserProxyWithReview\",\n",
        "    human_input_mode=\"NEVER\",\n",
        "    max_consecutive_auto_reply=10,\n",
        "    is_termination_msg=None # Your lambda function here\n",
        ")\n",
        "\n",
        "# TODO: 3. Create the new 4-agent GroupChat and Manager.\n",
        "four_agent_groupchat = None # Your group chat here\n",
        "four_agent_manager = None # Your manager here\n",
        "\n",
        "# TODO: 4. Initiate the chat.\n",
        "# user_proxy_with_review.initiate_chat(...)"
      ]
    },
    {
      "cell_type": "markdown",
      "metadata": {},
      "source": [
        "## Lab Conclusion\n",
        "\n",
        "Excellent work! You have now explored two powerful advanced agentic architectures. You learned how the plan-and-execute model can lead to more structured and reliable code generation, and you used AutoGen to simulate a collaborative team of AI agents that can plan, code, and review work. These foundational patterns are the building blocks for creating highly sophisticated and autonomous AI systems."
      ]
    }
  ],
  "metadata": {
    "kernelspec": {
      "display_name": "Python 3 (ipykernel)",
      "language": "python",
      "name": "python3"
    },
    "language_info": {
      "codemirror_mode": {
        "name": "ipython",
        "version": 3
      },
      "file_extension": ".py",
      "mimetype": "text/x-python",
      "name": "python",
      "nbconvert_exporter": "python",
      "pygments_lexer": "ipython3",
      "version": "3.12.7"
    }
  },
  "nbformat": 4,
  "nbformat_minor": 4
}