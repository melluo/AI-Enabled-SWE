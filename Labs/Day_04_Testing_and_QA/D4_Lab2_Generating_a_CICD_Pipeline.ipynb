{
  "cells": [
    {
      "cell_type": "markdown",
      "metadata": {},
      "source": [
        "# Day 4 - Lab 2: Generating a CI/CD Pipeline\n",
        "\n",
        "**Objective:** Use an LLM to generate all necessary configuration files to create an automated Continuous Integration (CI) pipeline for the FastAPI application using Docker and GitHub Actions.\n",
        "\n",
        "**Estimated Time:** 75 minutes\n",
        "\n",
        "**Introduction:**\n",
        "A robust CI pipeline is the backbone of modern software development. It automatically builds and tests your code every time a change is made, catching bugs early and ensuring quality. In this lab, you will generate all the configuration-as-code artifacts needed to build a professional CI pipeline for our application."
      ]
    },
    {
      "cell_type": "markdown",
      "metadata": {},
      "source": [
        "## Step 1: Setup"
      ]
    },
    {
      "cell_type": "markdown",
      "metadata": {},
      "source": [
        "## Step 2: The Challenges"
      ]
    },
    {
      "cell_type": "markdown",
      "metadata": {},
      "source": [
        "### Challenge 1 (Foundational): Generating a `requirements.txt`\n",
        "\n",
        "**Task:** Before we can build a Docker image, we need a list of our Python dependencies. Prompt the LLM to analyze your application code and generate a `requirements.txt` file.\n",
        "\n",
        "**Instructions:**\n",
        "1.  Write a prompt that provides the LLM with the source code of your FastAPI application.\n",
        "2.  Instruct it to analyze the `import` statements and generate a list of all external dependencies (like `fastapi`, `uvicorn`, `sqlalchemy`, `pydantic`).\n",
        "3.  The output should be formatted as a standard `requirements.txt` file.\n",
        "4.  Save the artifact to the project's root directory."
      ]
    },
    {
      "cell_type": "code",
      "execution_count": null,
      "metadata": {},
      "outputs": [],
      "source": [
        "import sys\n",
        "import os\n",
        "\n",
        "# Add the project's root directory to the Python path\n",
        "try:\n",
        "    # This works when running as a script\n",
        "    project_root = os.path.abspath(os.path.join(os.path.dirname(__file__), '..', '..'))\n",
        "except NameError:\n",
        "    # This works when running in an interactive environment (like a notebook)\n",
        "    # We go up two levels from the notebook's directory to the project root.\n",
        "    project_root = os.path.abspath(os.path.join(os.getcwd(), '..', '..'))\n",
        "\n",
        "if project_root not in sys.path:\n",
        "    sys.path.insert(0, project_root)"
      ]
    },
    {
      "cell_type": "code",
      "execution_count": null,
      "metadata": {},
      "outputs": [],
      "source": [
        "# TODO: Write a prompt to generate a requirements.txt file.\n",
        "requirements_prompt = f\"\"\" # Your prompt here \"\"\"\n",
        "\n",
        "print(\"--- Generating requirements.txt ---\")\n",
        "if app_code:\n",
        "    requirements_content = get_completion(requirements_prompt, client, model_name, api_provider)\n",
        "    print(requirements_content)\n",
        "    save_artifact(requirements_content, \"requirements.txt\")\n",
        "else:\n",
        "    print(\"Skipping requirements generation because app code is missing.\")"
      ]
    },
    {
      "cell_type": "markdown",
      "metadata": {},
      "source": [
        "### Challenge 2 (Intermediate): Generating a `Dockerfile`\n",
        "\n",
        "**Task:** Generate a multi-stage `Dockerfile` to create an optimized and secure container image for our application.\n",
        "\n",
        "**Instructions:**\n",
        "1.  Write a prompt asking for a multi-stage `Dockerfile` for a Python FastAPI application.\n",
        "2.  Specify the following requirements:\n",
        "    * Use a slim Python base image (e.g., `python:3.11-slim`).\n",
        "    * The first stage should be a `builder` stage that installs dependencies from `requirements.txt`.\n",
        "    * The final stage should copy the installed dependencies and the application code.\n",
        "    * The container should run as a non-root user for security.\n",
        "    * The `CMD` should execute the application using `uvicorn`.\n",
        "3.  Save the generated file as `Dockerfile` in the project's root."
      ]
    },
    {
      "cell_type": "code",
      "execution_count": null,
      "metadata": {},
      "outputs": [],
      "source": [
        "# TODO: Write a prompt to generate a multi-stage Dockerfile.\n",
        "dockerfile_prompt = \"\"\" # Your prompt here \"\"\"\n",
        "\n",
        "print(\"--- Generating Dockerfile ---\")\n",
        "dockerfile_content = get_completion(dockerfile_prompt, client, model_name, api_provider)\n",
        "print(dockerfile_content)\n",
        "\n",
        "if dockerfile_content:\n",
        "    save_artifact(dockerfile_content, \"Dockerfile\")"
      ]
    },
    {
      "cell_type": "markdown",
      "metadata": {},
      "source": [
        "### Challenge 3 (Advanced): Generating the GitHub Actions Workflow\n",
        "\n",
        "**Task:** Generate a complete GitHub Actions workflow file to automate the build and test process.\n",
        "\n",
        "**Instructions:**\n",
        "1.  Write a prompt to generate a GitHub Actions workflow file named `ci.yml`.\n",
        "2.  Specify the following requirements for the workflow:\n",
        "    * It should trigger on any `push` to the `main` branch.\n",
        "    * It should define a single job named `build-and-test` that runs on `ubuntu-latest`.\n",
        "    * The job should have steps to: 1) Check out the code, 2) Set up a Python environment, 3) Install dependencies from `requirements.txt`, and 4) Run the test suite using `pytest`.\n",
        "3.  Save the generated YAML file to `.github/workflows/ci.yml`."
      ]
    },
    {
      "cell_type": "code",
      "execution_count": null,
      "metadata": {},
      "outputs": [],
      "source": [
        "# TODO: Write a prompt to generate the GitHub Actions ci.yml file.\n",
        "ci_workflow_prompt = \"\"\" # Your prompt here \"\"\"\n",
        "\n",
        "print(\"--- Generating GitHub Actions Workflow ---\")\n",
        "ci_workflow_content = get_completion(ci_workflow_prompt, client, model_name, api_provider)\n",
        "print(ci_workflow_content)\n",
        "\n",
        "if ci_workflow_content:\n",
        "    # Note: The save_artifact helper creates directories as needed.\n",
        "    save_artifact(ci_workflow_content, \".github/workflows/ci.yml\")"
      ]
    }
  ],
  "metadata": {
    "kernelspec": {
      "display_name": "Python 3 (ipykernel)",
      "language": "python",
      "name": "python3"
    },
    "language_info": {
      "codemirror_mode": {
        "name": "ipython",
        "version": 3
      },
      "file_extension": ".py",
      "mimetype": "text/x-python",
      "name": "python",
      "nbconvert_exporter": "python",
      "pygments_lexer": "ipython3",
      "version": "3.12.7"
    }
  },
  "nbformat": 4,
  "nbformat_minor": 4
}