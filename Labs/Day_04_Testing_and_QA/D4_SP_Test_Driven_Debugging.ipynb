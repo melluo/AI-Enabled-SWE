{
  "cells": [
    {
      "cell_type": "markdown",
      "metadata": {},
      "source": [
        "# Day 4 - Self-Paced Practice Lab: Test-Driven Debugging\n",
        "\n",
        "**Objective:** Reinforce the concepts of Day 4 by using an LLM to perform a complete test-driven debugging workflow on a new, isolated problem.\n",
        "\n",
        "**Estimated Time:** 45 minutes (Self-Paced)\n",
        "\n",
        "**Introduction:**\n",
        "A powerful workflow for fixing bugs is to first write a test that fails because of the bug, and then fix the code to make the test pass. This is a core principle of Test-Driven Development (TDD). In this lab, you will use an AI co-pilot to execute this entire workflow on a provided piece of buggy code."
      ]
    },
    {
      "cell_type": "markdown",
      "metadata": {},
      "source": [
        "## Step 1: Setup"
      ]
    },
    {
      "cell_type": "code",
      "execution_count": null,
      "metadata": {},
      "outputs": [],
      "source": [
        "import sys\n",
        "import os\n",
        "\n",
        "# Add the project's root directory to the Python path\n",
        "try:\n",
        "    # This works when running as a script\n",
        "    project_root = os.path.abspath(os.path.join(os.path.dirname(__file__), '..', '..'))\n",
        "except NameError:\n",
        "    # This works when running in an interactive environment (like a notebook)\n",
        "    # We go up two levels from the notebook's directory to the project root.\n",
        "    project_root = os.path.abspath(os.path.join(os.getcwd(), '..', '..'))\n",
        "\n",
        "if project_root not in sys.path:\n",
        "    sys.path.insert(0, project_root)"
      ]
    },
    {
      "cell_type": "code",
      "execution_count": null,
      "metadata": {},
      "outputs": [],
      "source": [
        "from utils import setup_llm_client, get_completion, save_artifact\n",
        "\n",
        "client, model_name, api_provider = setup_llm_client()"
      ]
    },
    {
      "cell_type": "markdown",
      "metadata": {},
      "source": [
        "## Step 2: The Buggy Code\n",
        "\n",
        "Here is a Python function that is supposed to calculate the total cost of a shopping cart. It takes a list of items (as dictionaries) and an optional discount percentage. However, it contains a subtle bug."
      ]
    },
    {
      "cell_type": "code",
      "execution_count": null,
      "metadata": {},
      "outputs": [],
      "source": [
        "buggy_code = \"\"\"\n",
        "def calculate_total(items, discount_percent=0):\n",
        "    \\\"\\\"\\\"Calculates the total cost of a shopping cart with an optional discount.\\\"\\\"\\\" \n",
        "    total = sum(item['price'] * item['quantity'] for item in items)\n",
        "    if discount_percent > 0:\n",
        "        # Bug is here: This should be (1 - discount_percent / 100)\n",
        "        total = total * (discount_percent / 100)\n",
        "    return total\n",
        "\"\"\""
      ]
    },
    {
      "cell_type": "markdown",
      "metadata": {},
      "source": [
        "## Step 3: Your Task\n",
        "\n",
        "**Task:** Use an LLM to perform a three-step debugging process.\n",
        "\n",
        "**Instructions:**\n",
        "1.  **Analyze the Bug:** Write a prompt that provides the `buggy_code` to the LLM and asks it to explain, in plain English, what the logical error is.\n",
        "2.  **Write a Failing Test:** Write a new prompt. Provide the `buggy_code` again and instruct the LLM to write a specific `pytest` test function named `test_calculate_total_with_discount` that will *fail* because of the bug. The test should use sample data and assert the correct, expected total.\n",
        "3.  **Fix the Code:** Write a final prompt. Provide both the `buggy_code` and the *failing test code* you just generated. Instruct the LLM to fix the original function so that the provided test will pass.\n",
        "4.  Save the final, corrected code to a file."
      ]
    },
    {
      "cell_type": "code",
      "execution_count": null,
      "metadata": {},
      "outputs": [],
      "source": [
        "# TODO: Task 1 - Prompt to analyze and explain the bug.\n",
        "analyze_bug_prompt = f\"\"\"\n",
        "# Your prompt here\n",
        "\"\"\"\n",
        "print(\"--- Analyzing Bug ---\")\n",
        "bug_explanation = get_completion(analyze_bug_prompt, client, model_name, api_provider)\n",
        "print(bug_explanation)\n",
        "\n",
        "# TODO: Task 2 - Prompt to write a failing pytest test.\n",
        "failing_test_prompt = f\"\"\"\n",
        "# Your prompt here\n",
        "\"\"\"\n",
        "print(\"\\n--- Generating Failing Test ---\")\n",
        "failing_test_code = get_completion(failing_test_prompt, client, model_name, api_provider)\n",
        "print(failing_test_code)\n",
        "\n",
        "# TODO: Task 3 - Prompt to fix the code based on the failing test.\n",
        "fix_code_prompt = f\"\"\"\n",
        "# Your prompt here\n",
        "\"\"\"\n",
        "print(\"\\n--- Generating Fixed Code ---\")\n",
        "fixed_code = get_completion(fix_code_prompt, client, model_name, api_provider)\n",
        "print(fixed_code)\n",
        "\n",
        "# Save the final corrected code\n",
        "if fixed_code:\n",
        "    if '```' in fixed_code:\n",
        "        fixed_code = fixed_code.split('```')[1].lstrip('python').strip()\n",
        "    save_artifact(fixed_code, \"app/fixed_shopping_cart.py\")"
      ]
    },
    {
      "cell_type": "markdown",
      "metadata": {},
      "source": [
        "## Lab Conclusion\n",
        "\n",
        "Excellent! You have successfully used an AI co-pilot to execute a professional, test-driven debugging workflow. This process\u2014identifying a bug, writing a test to prove it exists, and then fixing the code to make the test pass\u2014is a highly effective way to systematically improve code quality and prevent regressions. This is a skill you can apply to any codebase."
      ]
    }
  ],
  "metadata": {
    "kernelspec": {
      "display_name": "Python 3 (ipykernel)",
      "language": "python",
      "name": "python3"
    },
    "language_info": {
      "codemirror_mode": {
        "name": "ipython",
        "version": 3
      },
      "file_extension": ".py",
      "mimetype": "text/x-python",
      "name": "python",
      "nbconvert_exporter": "python",
      "pygments_lexer": "ipython3",
      "version": "3.12.7"
    }
  },
  "nbformat": 4,
  "nbformat_minor": 4
}