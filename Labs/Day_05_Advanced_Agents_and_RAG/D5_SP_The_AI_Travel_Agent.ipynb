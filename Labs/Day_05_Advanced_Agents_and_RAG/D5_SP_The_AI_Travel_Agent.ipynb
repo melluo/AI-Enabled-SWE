{
 "cells": [
  {
   "cell_type": "markdown",
   "metadata": {},
   "source": [
    "# Day 5 - Self-Paced Practice: The AI Travel Agent\n",
    "\n",
    "**Objective:** Reinforce the concept of a tool-using agent by applying it to a new, practical problem: planning a trip.\n",
    "\n",
    "**Estimated Time:** 45 minutes\n",
    "\n",
    "**Introduction:**\n",
    "This optional lab challenges you to build a simple AI Travel Agent. You will give it access to a web search tool and ask it to perform a multi-step research task to create a travel itinerary. This requires the agent to make multiple, distinct calls to its tool to gather all the necessary information before synthesizing a final answer."
   ]
  },
  {
   "cell_type": "markdown",
   "metadata": {},
   "source": [
    "## 1. Setup\n",
    "\n",
    "We will set up our environment and the LangChain agent components, just as we did in the core lab. This includes installing the necessary libraries and initializing our LLM client."
   ]
  },
  {
   "cell_type": "code",
   "execution_count": null,
   "metadata": {},
   "outputs": [],
   "source": [
    "import sys\n",
    "import os\n",
    "\n",
    "# Add the project's root directory to the Python path\n",
    "try:\n",
    "    project_root = os.path.abspath(os.path.join(os.getcwd(), '..', '..'))\n",
    "except IndexError:\n",
    "    project_root = os.path.abspath(os.path.join(os.getcwd()))\n",
    "\n",
    "if project_root not in sys.path:\n",
    "    sys.path.insert(0, project_root)\n",
    "\n",
    "# This helper will install packages if they are not found\n",
    "import importlib\n",
    "def install_if_missing(package):\n",
    "    try:\n",
    "        importlib.import_module(package)\n",
    "    except ImportError:\n",
    "        print(f\"{package} not found, installing...\")\n",
    "        import subprocess\n",
    "        subprocess.check_call([sys.executable, \"-m\", \"pip\", \"install\", \"-q\", package])\n",
    "\n",
    "install_if_missing('langchain')\n",
    "install_if_missing('langchain_community')\n",
    "install_if_missing('langchain_openai')\n",
    "install_if_missing('tavily')\n",
    "\n",
    "from langchain_community.tools.tavily_search import TavilySearchResults\n",
    "from langchain.agents import create_tool_calling_agent, AgentExecutor\n",
    "from langchain_core.prompts import ChatPromptTemplate\n",
    "from langchain_openai import ChatOpenAI\n",
    "from utils import setup_ll_m_client\n",
    "\n",
    "# For agentic tasks, a powerful model is recommended.\n",
    "client, model_name, api_provider = setup_llm_client(model_name=\"gpt-4o\")\n",
    "llm = ChatOpenAI(model=model_name)"
   ]
  },
  {
   "cell_type": "markdown",
   "metadata": {},
   "source": [
    "## 2. The Problem Statement\n",
    "\n",
    "Your task is to build an agent that can plan a 3-day trip to Paris, France. The agent needs to be able to research flights, activities, and restaurants."
   ]
  },
  {
   "cell_type": "markdown",
   "metadata": {},
   "source": [
    "### \u2b50 Deeper Dive: The ReAct Framework (Reasoning and Acting)\n",
    "\n",
    "How does an agent actually \"use\" a tool? Most modern agents follow a pattern called **ReAct**, which stands for **Reason-Act**.\n",
    "\n",
    "When you give the agent a complex task, it enters a loop:\n",
    "\n",
    "1.  **Reason (Thought):** The agent first thinks about the overall goal and its available tools. It breaks the problem down and decides on a single, concrete action it can take *right now*. For example: `\"The user needs flight options. I should use the search tool to find flights from JFK to CDG.\"`\n",
    "2.  **Act:** The agent executes the chosen action. This means calling the tool (e.g., `TavilySearchResults(query='flights from JFK to CDG')`).\n",
    "3.  **Observe:** The agent gets the result (the \"observation\") back from the tool (e.g., a list of flight search results).\n",
    "4.  **Repeat:** The agent takes this new information, re-evaluates the overall goal, and enters the **Reason** step again. `\"Okay, I have the flights. Now the user needs tourist activities. I should use the search tool again to find activities in Paris.\"`\n",
    "\n",
    "This **Thought -> Action -> Observation** loop continues until the agent has gathered enough information to formulate a final answer. When you set `verbose=True` in a LangChain `AgentExecutor`, you are watching this ReAct loop happen in real-time!"
   ]
  },
  {
   "cell_type": "markdown",
   "metadata": {},
   "source": [
    "## 3. Your Task\n",
    "\n",
    "Build a LangChain agent that uses the Tavily Search tool to create a complete travel itinerary."
   ]
  },
  {
   "cell_type": "markdown",
   "metadata": {},
   "source": [
    "#### \ud83d\udca1 Pro-Tip: Prompting for Multi-Step Tasks\n",
    "\n",
    "When you need an agent to perform several distinct tasks (like finding flights, activities, *and* restaurants), it's best to list them all clearly in the initial prompt. This allows the agent to form a better high-level plan from the start.\n",
    "\n",
    "Instead of asking questions one by one, bundle them into a single, comprehensive request. This encourages the agent to complete its full research loop before giving you the final, synthesized answer."
   ]
  },
  {
   "cell_type": "code",
   "execution_count": null,
   "metadata": {},
   "outputs": [],
   "source": [
    "# 1. Instantiate the tool. We'll give it a clear name for the agent.\n",
    "search_tool = TavilySearchResults(max_results=3)\n",
    "search_tool.name = \"web_search\"\n",
    "tools = [search_tool]\n",
    "\n",
    "# 2. Create the prompt template. The persona helps guide its tone.\n",
    "travel_agent_prompt = ChatPromptTemplate.from_messages([\n",
    "    (\"system\", \"You are a helpful travel agent. You are thorough and provide detailed, well-organized itineraries. You must find all the information requested by the user before giving your final answer.\"),\n",
    "    (\"user\", \"{input}\"),\n",
    "    (\"placeholder\", \"{agent_scratchpad}\"),\n",
    "])\n",
    "\n",
    "# 3. Create the agent and executor\n",
    "travel_agent = create_tool_calling_agent(llm, tools, travel_agent_prompt)\n",
    "travel_agent_executor = AgentExecutor(agent=travel_agent, tools=tools, verbose=True)\n",
    "\n",
    "# 4. Define the detailed, multi-step query\n",
    "trip_query = \"\"\"\n",
    "Please create a 3-day travel itinerary for a trip to Paris, France, from New York City.\n",
    "\n",
    "Specifically, I need you to research and include the following:\n",
    "1.  Two different round-trip flight options from JFK to CDG.\n",
    "2.  One unique tourist activity for each of the three days.\n",
    "3.  One highly-rated restaurant recommendation near the Eiffel Tower.\n",
    "\n",
    "Please synthesize all of this information into a single, final itinerary.\n",
    "\"\"\"\n",
    "\n",
    "# 5. Invoke the agent\n",
    "print(\"--- Planning Trip to Paris ---\")\n",
    "trip_result = travel_agent_executor.invoke({\"input\": trip_query})\n",
    "\n",
    "print(\"\\n--- Final Itinerary ---\")\n",
    "print(trip_result['output'])"
   ]
  },
  {
   "cell_type": "markdown",
   "metadata": {},
   "source": [
    "## Lab Conclusion\n",
    "\n",
    "Well done! You have successfully built a practical, tool-using agent that can perform a multi-step research task. This lab reinforces how agents can break down a complex query into smaller, manageable steps, use their tools to gather information for each step, and then synthesize the results into a comprehensive final answer. You also learned about the underlying ReAct framework that powers this agentic behavior."
   ]
  }
 ],
 "metadata": {
  "kernelspec": {
   "display_name": "Python 3",
   "language": "python",
   "name": "python3"
  },
  "language_info": {
   "codemirror_mode": {
    "name": "ipython",
    "version": 3
   },
   "file_extension": ".py",
   "mimetype": "text/x-python",
   "name": "python",
   "nbconvert_exporter": "python",
   "pygments_lexer": "ipython3",
   "version": "3.11.5"
  }
 },
 "nbformat": 4,
 "nbformat_minor": 4
}