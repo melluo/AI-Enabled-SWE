{
 "cells": [
  {
   "cell_type": "markdown",
   "metadata": {},
   "source": [
    "# Day 5 - Lab 1: Tool-Using Agents\n",
    "\n",
    "**Objective:** Build agents that can use external tools to accomplish tasks they cannot perform on their own, using both LangChain and custom Python functions.\n",
    "\n",
    "**Estimated Time:** 135 minutes\n",
    "\n",
    "**Introduction:**\n",
    "Welcome to Day 5! We are now shifting from using AI to build a traditional application to building applications that *are* AI. An 'agent' is more than just a prompt; it's a system that can reason, plan, and use tools to achieve a goal. In this lab, you will build your first simple agents using the flexible LangChain framework.\n",
    "\n",
    "For definitions of key terms used in this lab, please refer to the [GLOSSARY.md](../../GLOSSARY.md)."
   ]
  },
  {
   "cell_type": "markdown",
   "metadata": {},
   "source": [
    "## Step 1: Setup\n",
    "\n",
    "We will set up our environment, which for today includes installing the `langchain`, `langchain-community`, and `tavily-python` libraries. Tavily is a search engine API optimized for AI agents, which we will use as our first tool.\n",
    "\n",
    "**Model Selection:**\n",
    "For agentic tasks that require reasoning and tool use, highly capable models are recommended. `gpt-4.1`, `o3`, `gemini-2.5-pro`, or open-source models like `deepseek-ai/DeepSeek-R1` are excellent choices.\n",
    "\n",
    "**Helper Functions Used:**\n",
    "- `setup_llm_client()`: To configure the API client.\n",
    "- `get_completion()`: To send prompts to the LLM (though we'll mostly use LangChain's abstractions)."
   ]
  },
  {
   "cell_type": "code",
   "execution_count": 8,
   "metadata": {},
   "outputs": [
    {
     "name": "stdout",
     "output_type": "stream",
     "text": [
      "✅ LLM Client configured: Using 'openai' with model 'gpt-4.1'\n"
     ]
    }
   ],
   "source": [
    "import sys\n",
    "import os\n",
    "\n",
    "# Add the project's root directory to the Python path\n",
    "try:\n",
    "    project_root = os.path.abspath(os.path.join(os.getcwd(), '..', '..'))\n",
    "except IndexError:\n",
    "    project_root = os.path.abspath(os.path.join(os.getcwd()))\n",
    "\n",
    "if project_root not in sys.path:\n",
    "    sys.path.insert(0, project_root)\n",
    "\n",
    "# This helper will install packages if they are not found\n",
    "import importlib\n",
    "def install_if_missing(package):\n",
    "    try:\n",
    "        importlib.import_module(package)\n",
    "    except ImportError:\n",
    "        print(f\"{package} not found, installing...\")\n",
    "        # Note: %pip is for notebooks. In a script, use subprocess.\n",
    "        import subprocess\n",
    "        subprocess.check_call([sys.executable, \"-m\", \"pip\", \"install\", \"-q\", package])\n",
    "\n",
    "install_if_missing('langchain')\n",
    "install_if_missing('langchain_community')\n",
    "install_if_missing('langchain_openai')\n",
    "install_if_missing('tavily')\n",
    "\n",
    "from utils import setup_llm_client\n",
    "client, model_name, api_provider = setup_llm_client(model_name=\"gpt-4.1\")"
   ]
  },
  {
   "cell_type": "markdown",
   "metadata": {},
   "source": [
    "## Step 2: The Challenges"
   ]
  },
  {
   "cell_type": "markdown",
   "metadata": {},
   "source": [
    "### Challenge 1 (Foundational): Building a LangChain Agent with One Tool\n",
    "\n",
    "**Task:** Build a simple LangChain agent that can use the Tavily Search API to answer questions about current events.\n",
    "\n",
    "**Instructions:**\n",
    "1.  Import `TavilySearchResults` from `langchain_community.tools.tavily_search`.\n",
    "2.  Import `create_tool_calling_agent` and `AgentExecutor` from `langchain.agents`.\n",
    "3.  Import `ChatPromptTemplate` from `langchain_core.prompts`.\n",
    "4.  Instantiate the `TavilySearchResults` tool.\n",
    "5.  Create a prompt template. It must include a placeholder for `agent_scratchpad`.\n",
    "6.  Create the agent by passing the LLM, the list of tools, and the prompt to `create_tool_calling_agent`.\n",
    "7.  Create an `AgentExecutor` to run the agent.\n",
    "8.  Invoke the agent with a question that requires a web search, like \"What was the score of the last Super Bowl?\"\n",
    "\n",
    "**Expected Quality:** The agent should successfully use the Tavily tool to search the web, find the correct information, and provide an accurate answer."
   ]
  },
  {
   "cell_type": "code",
   "execution_count": 9,
   "metadata": {},
   "outputs": [
    {
     "name": "stdout",
     "output_type": "stream",
     "text": [
      "\n",
      "\n",
      "\u001b[1m> Entering new AgentExecutor chain...\u001b[0m\n",
      "\u001b[32;1m\u001b[1;3m\n",
      "Invoking: `tavily_search_results_json` with `{'query': 'last Super Bowl score'}`\n",
      "\n",
      "\n",
      "\u001b[0m\u001b[36;1m\u001b[1;3m[{'title': 'Final score: Eagles defeat Chiefs 40-22 in Super Bowl LIX', 'url': 'https://sports.yahoo.com/final-score-eagles-defeat-chiefs-034125398.html', 'content': \"Published Time: 2025-02-10T03:41:25.000Z\\n\\nFinal score: Eagles defeat Chiefs 40-22 in Super Bowl LIX - Yahoo Sports\\n===============\\n\\n February 10, 2025\\n\\nDespite the Chiefs' generally poor performance in the championship game, there were still a few bright spots that Kansas City's fans can take solace in as the team heads into the offseason.\\n\\nAdvertisement\\n\\nAdvertisement\\n\\nAdvertisement [...] Terms and Privacy Policy\\n    \\n   Privacy Dashboard\\n   Help\\n   Share Your Feedback\\n   About Us\\n   About Our Ads\\n\\nFollow us on\\n\\n   [](\\n   [](\\n   [](\\n   [](\\n   [](\\n   [](\\n\\nDownload our app\\n\\n   Image 15: Download app from appStore\\n   Image 16: Download app from googlePlay\\n\\n© 2025 Yahoo. All rights reserved. [...] Rookie wide receiver Xavier Worthy caught all eight of the passes that were thrown his way and scored two touchdowns while picking up 157 yards.\\n\\n_This article originally appeared on Chiefs Wire: Final score: Eagles defeat Chiefs 40-22 in Super Bowl LIX_\\n\\nTop Headlines\\n\\n-----------------\", 'score': 0.7336813}, {'title': 'Super Bowl LII - Wikipedia', 'url': 'https://en.wikipedia.org/wiki/Super_Bowl_LII', 'content': 'Super Bowl LII was an American football game played to determine the champion of the National Football League (NFL) for the 2017 season. As a rematch of Super Bowl XXXIX from 13 years earlier, the game was between the National Football Conference (NFC) champion Philadelphia Eagles and the American Football Conference (AFC) and defending Super Bowl LI champion New England Patriots. The underdog Eagles defeated the Patriots with a score of 41–33 to win their first Super Bowl[\\\\[3\\\\]]( and their', 'score': 0.64719695}, {'title': 'List of Super Bowl champions - Wikipedia', 'url': 'https://en.wikipedia.org/wiki/List_of_Super_Bowl_champions', 'content': 'Super Bowl championships | Game | Date (Season) | Winning team | Score | Losing team | Venue | City | Attendance | Referee | Ref. |\\n| --- | --- | --- | --- | --- | --- | --- | --- | --- | --- |\\n| I ( | January 15, 1967 (1966 AFL/1966 NFL) | Green Bay Packersn (1, 1–0) | 35–10 | Kansas City Chiefsa (1, 0–1) | Los Angeles Memorial Coliseum | Los Angeles, California( | 61,946 | Norm Schachter | ( | [...] | XLIV | February 7, 2010 (2009) | New Orleans SaintsN (1, 1–0) | 31–17 | Indianapolis ColtsA (4, 2–2) | Sun Life Stadium (5)( | Miami Gardens, Florida (10)( | 74,059 | Scott Green \"Scott Green (American football official)\") | ( |\\n| XLV | February 6, 2011 (2010) | Green Bay PackersN (5, 4–1)( | 31–25 | Pittsburgh SteelersA (8, 6–2) | Cowboys Stadium | Arlington, Texas | 103,219 | Walt Anderson \"Walt Anderson (American football)\") | ( | [...] | LIV | February 2, 2020 (2019) | Kansas City ChiefsA (3, 2–1) | 31–20 | San Francisco 49ersN (7, 5–2) | Hard Rock Stadium (6)( | Miami Gardens, Florida (11)( | 62,417 | Bill Vinovich | ( |\\n| LV | February 7, 2021 (2020) | Tampa Bay BuccaneersN (2, 2–0)( | 31–9 | Kansas City ChiefsA (4, 2–2) | Raymond James Stadium (3) | Tampa, Florida (5) | 24,835 | Carl Cheffers | ( |', 'score': 0.62687886}, {'title': 'Super Bowl Winners and Results | FOX Sports', 'url': 'https://www.foxsports.com/nfl-super-bowl-winners-and-results', 'content': \"| LVII | State Farm Stadium | Feb. 12, 2023 | Kansas City 38, Philadelphia 35 |\\n| LVIII | Allegiant Stadium | Feb. 11, 2024 | Kansas City 25, San Francisco 22 |\\n| LIX | Caesars Superdome | Feb. 9, 2025 | Philadelphia 40, Kansas City 22 | [...] | XXVI | Metrodome | Jan. 26, 1992 | Washington 37, Buffalo 24 |\\n| XXVII | Rose Bowl | Jan. 31, 1993 | Dallas 52, Buffalo 17 |\\n| XXVIII | Georgia Dome | Jan. 30, 1994 | Dallas 30, Buffalo 13 |\\n| XXIX | Joe Robbie Stadium | Jan. 29, 1995 | San Francisco 49, San Diego 26 |\\n| XXX | Sun Devil Stadium | Jan. 28, 1996 | Dallas 27, Pittsburgh 17 |\\n| XXXI | Louisiana Superdome | Jan. 26, 1997 | Green Bay 35, New England 21 |\\n| XXXII | Qualcomm Stadium | Jan. 25, 1998 | Denver 31, Green Bay 24 | [...] | XLV | Cowboys Stadium | Feb. 6, 2011 | Green Bay 31, Pittsburgh 25 |\\n| XLVI | Lucas Oil Stadium | Feb. 5, 2012 | New York Giants 21, New England 17 |\\n| XLVII | Mercedes-Benz Superdome | Feb. 3, 2013 | Baltimore 34, San Francisco 31 |\\n| XLVIII | MetLife Stadium | Feb. 2, 2014 | Seattle 43, Denver 8 |\\n| XLIX | University of Phoenix Stadium | Feb. 1, 2015 | New England 28, Seattle 24 |\\n| 50 | Levi's Stadium | Feb. 7, 2016 | Denver 24, Carolina 10 |\", 'score': 0.61196244}, {'title': 'Super Bowl Winners by Year - ESPN', 'url': 'http://www.espn.com/nfl/superbowl/history/winners', 'content': \"XXVI Jan. 26, 1992 Metrodome (Minneapolis)Washington 37, Buffalo 24\\nXXVII Jan. 31, 1993 Rose Bowl (Pasadena, Calif.)Dallas 52, Buffalo 17\\nXXVIII Jan. 30, 1994 Georgia Dome (Atlanta)Dallas 30, Buffalo 13\\nXXIX Jan. 29, 1995 Joe Robbie Stadium (Miami)San Francisco 49, San Diego 26\\nXXX Jan. 28, 1996 Sun Devil Stadium (Tempe, Ariz.)Dallas 27, Pittsburgh 17\\nXXXI Jan. 26, 1997 Superdome (New Orleans)Green Bay 35, New England 21\\nXXXII Jan. 25, 1998 Qualcomm Stadium (San Diego)Denver 31, Green Bay 24 [...] LVII Feb. 12, 2023 State Farm Stadium (Glendale, Ariz.)Kansas City 38, Philadelphia 35\\nLVIII Feb. 11, 2024 Allegiant Stadium (Las Vegas)Kansas City 25, San Francisco 22\\nLIX Feb. 9, 2025 Caesars Superdome (New Orleans)Philadelphia 40, Kansas City 22 [...] XLV Feb. 6, 2011 Cowboys Stadium (Arlington, Texas)Green Bay 31, Pittsburgh 25\\nXLVI Feb. 5, 2012 Lucas Oil Stadium (Indianapolis)New York Giants 21, New England 17\\nXLVII Feb. 3, 2013 Mercedes-Benz Superdome (New Orleans)Baltimore 34, San Francisco 31\\nXLVIII Feb. 2, 2014 MetLife Stadium (East Rutherford, N.J.)Seattle 43, Denver 8\\nXLIX Feb. 1, 2015 University of Phoenix Stadium (Glendale, Ariz.)New England 28, Seattle 24\\n50 Feb. 7, 2016 Levi's Stadium (Santa Clara, Calif.)Denver 24, Carolina 10\", 'score': 0.5837973}]\u001b[0m\u001b[32;1m\u001b[1;3mThe score of the last Super Bowl (Super Bowl LIX, played on February 9, 2025) was:\n",
      "\n",
      "Philadelphia Eagles 40, Kansas City Chiefs 22.\u001b[0m\n",
      "\n",
      "\u001b[1m> Finished chain.\u001b[0m\n",
      "{'input': 'What was the score of the last Super Bowl?', 'output': 'The score of the last Super Bowl (Super Bowl LIX, played on February 9, 2025) was:\\n\\nPhiladelphia Eagles 40, Kansas City Chiefs 22.', 'intermediate_steps': [(ToolAgentAction(tool='tavily_search_results_json', tool_input={'query': 'last Super Bowl score'}, log=\"\\nInvoking: `tavily_search_results_json` with `{'query': 'last Super Bowl score'}`\\n\\n\\n\", message_log=[AIMessageChunk(content='', additional_kwargs={'tool_calls': [{'index': 0, 'id': 'call_o6wHW1aSDeLUoY2R9izpNFfE', 'function': {'arguments': '{\"query\":\"last Super Bowl score\"}', 'name': 'tavily_search_results_json'}, 'type': 'function'}]}, response_metadata={'finish_reason': 'tool_calls', 'model_name': 'gpt-4.1-2025-04-14', 'system_fingerprint': 'fp_799e4ca3f1', 'service_tier': 'default'}, id='run--b2ec8d4b-9d60-40bd-bc48-60edaf264e8e', tool_calls=[{'name': 'tavily_search_results_json', 'args': {'query': 'last Super Bowl score'}, 'id': 'call_o6wHW1aSDeLUoY2R9izpNFfE', 'type': 'tool_call'}], tool_call_chunks=[{'name': 'tavily_search_results_json', 'args': '{\"query\":\"last Super Bowl score\"}', 'id': 'call_o6wHW1aSDeLUoY2R9izpNFfE', 'index': 0, 'type': 'tool_call_chunk'}])], tool_call_id='call_o6wHW1aSDeLUoY2R9izpNFfE'), [{'title': 'Final score: Eagles defeat Chiefs 40-22 in Super Bowl LIX', 'url': 'https://sports.yahoo.com/final-score-eagles-defeat-chiefs-034125398.html', 'content': \"Published Time: 2025-02-10T03:41:25.000Z\\n\\nFinal score: Eagles defeat Chiefs 40-22 in Super Bowl LIX - Yahoo Sports\\n===============\\n\\n February 10, 2025\\n\\nDespite the Chiefs' generally poor performance in the championship game, there were still a few bright spots that Kansas City's fans can take solace in as the team heads into the offseason.\\n\\nAdvertisement\\n\\nAdvertisement\\n\\nAdvertisement [...] Terms and Privacy Policy\\n    \\n   Privacy Dashboard\\n   Help\\n   Share Your Feedback\\n   About Us\\n   About Our Ads\\n\\nFollow us on\\n\\n   [](\\n   [](\\n   [](\\n   [](\\n   [](\\n   [](\\n\\nDownload our app\\n\\n   Image 15: Download app from appStore\\n   Image 16: Download app from googlePlay\\n\\n© 2025 Yahoo. All rights reserved. [...] Rookie wide receiver Xavier Worthy caught all eight of the passes that were thrown his way and scored two touchdowns while picking up 157 yards.\\n\\n_This article originally appeared on Chiefs Wire: Final score: Eagles defeat Chiefs 40-22 in Super Bowl LIX_\\n\\nTop Headlines\\n\\n-----------------\", 'score': 0.7336813}, {'title': 'Super Bowl LII - Wikipedia', 'url': 'https://en.wikipedia.org/wiki/Super_Bowl_LII', 'content': 'Super Bowl LII was an American football game played to determine the champion of the National Football League (NFL) for the 2017 season. As a rematch of Super Bowl XXXIX from 13 years earlier, the game was between the National Football Conference (NFC) champion Philadelphia Eagles and the American Football Conference (AFC) and defending Super Bowl LI champion New England Patriots. The underdog Eagles defeated the Patriots with a score of 41–33 to win their first Super Bowl[\\\\[3\\\\]]( and their', 'score': 0.64719695}, {'title': 'List of Super Bowl champions - Wikipedia', 'url': 'https://en.wikipedia.org/wiki/List_of_Super_Bowl_champions', 'content': 'Super Bowl championships | Game | Date (Season) | Winning team | Score | Losing team | Venue | City | Attendance | Referee | Ref. |\\n| --- | --- | --- | --- | --- | --- | --- | --- | --- | --- |\\n| I ( | January 15, 1967 (1966 AFL/1966 NFL) | Green Bay Packersn (1, 1–0) | 35–10 | Kansas City Chiefsa (1, 0–1) | Los Angeles Memorial Coliseum | Los Angeles, California( | 61,946 | Norm Schachter | ( | [...] | XLIV | February 7, 2010 (2009) | New Orleans SaintsN (1, 1–0) | 31–17 | Indianapolis ColtsA (4, 2–2) | Sun Life Stadium (5)( | Miami Gardens, Florida (10)( | 74,059 | Scott Green \"Scott Green (American football official)\") | ( |\\n| XLV | February 6, 2011 (2010) | Green Bay PackersN (5, 4–1)( | 31–25 | Pittsburgh SteelersA (8, 6–2) | Cowboys Stadium | Arlington, Texas | 103,219 | Walt Anderson \"Walt Anderson (American football)\") | ( | [...] | LIV | February 2, 2020 (2019) | Kansas City ChiefsA (3, 2–1) | 31–20 | San Francisco 49ersN (7, 5–2) | Hard Rock Stadium (6)( | Miami Gardens, Florida (11)( | 62,417 | Bill Vinovich | ( |\\n| LV | February 7, 2021 (2020) | Tampa Bay BuccaneersN (2, 2–0)( | 31–9 | Kansas City ChiefsA (4, 2–2) | Raymond James Stadium (3) | Tampa, Florida (5) | 24,835 | Carl Cheffers | ( |', 'score': 0.62687886}, {'title': 'Super Bowl Winners and Results | FOX Sports', 'url': 'https://www.foxsports.com/nfl-super-bowl-winners-and-results', 'content': \"| LVII | State Farm Stadium | Feb. 12, 2023 | Kansas City 38, Philadelphia 35 |\\n| LVIII | Allegiant Stadium | Feb. 11, 2024 | Kansas City 25, San Francisco 22 |\\n| LIX | Caesars Superdome | Feb. 9, 2025 | Philadelphia 40, Kansas City 22 | [...] | XXVI | Metrodome | Jan. 26, 1992 | Washington 37, Buffalo 24 |\\n| XXVII | Rose Bowl | Jan. 31, 1993 | Dallas 52, Buffalo 17 |\\n| XXVIII | Georgia Dome | Jan. 30, 1994 | Dallas 30, Buffalo 13 |\\n| XXIX | Joe Robbie Stadium | Jan. 29, 1995 | San Francisco 49, San Diego 26 |\\n| XXX | Sun Devil Stadium | Jan. 28, 1996 | Dallas 27, Pittsburgh 17 |\\n| XXXI | Louisiana Superdome | Jan. 26, 1997 | Green Bay 35, New England 21 |\\n| XXXII | Qualcomm Stadium | Jan. 25, 1998 | Denver 31, Green Bay 24 | [...] | XLV | Cowboys Stadium | Feb. 6, 2011 | Green Bay 31, Pittsburgh 25 |\\n| XLVI | Lucas Oil Stadium | Feb. 5, 2012 | New York Giants 21, New England 17 |\\n| XLVII | Mercedes-Benz Superdome | Feb. 3, 2013 | Baltimore 34, San Francisco 31 |\\n| XLVIII | MetLife Stadium | Feb. 2, 2014 | Seattle 43, Denver 8 |\\n| XLIX | University of Phoenix Stadium | Feb. 1, 2015 | New England 28, Seattle 24 |\\n| 50 | Levi's Stadium | Feb. 7, 2016 | Denver 24, Carolina 10 |\", 'score': 0.61196244}, {'title': 'Super Bowl Winners by Year - ESPN', 'url': 'http://www.espn.com/nfl/superbowl/history/winners', 'content': \"XXVI Jan. 26, 1992 Metrodome (Minneapolis)Washington 37, Buffalo 24\\nXXVII Jan. 31, 1993 Rose Bowl (Pasadena, Calif.)Dallas 52, Buffalo 17\\nXXVIII Jan. 30, 1994 Georgia Dome (Atlanta)Dallas 30, Buffalo 13\\nXXIX Jan. 29, 1995 Joe Robbie Stadium (Miami)San Francisco 49, San Diego 26\\nXXX Jan. 28, 1996 Sun Devil Stadium (Tempe, Ariz.)Dallas 27, Pittsburgh 17\\nXXXI Jan. 26, 1997 Superdome (New Orleans)Green Bay 35, New England 21\\nXXXII Jan. 25, 1998 Qualcomm Stadium (San Diego)Denver 31, Green Bay 24 [...] LVII Feb. 12, 2023 State Farm Stadium (Glendale, Ariz.)Kansas City 38, Philadelphia 35\\nLVIII Feb. 11, 2024 Allegiant Stadium (Las Vegas)Kansas City 25, San Francisco 22\\nLIX Feb. 9, 2025 Caesars Superdome (New Orleans)Philadelphia 40, Kansas City 22 [...] XLV Feb. 6, 2011 Cowboys Stadium (Arlington, Texas)Green Bay 31, Pittsburgh 25\\nXLVI Feb. 5, 2012 Lucas Oil Stadium (Indianapolis)New York Giants 21, New England 17\\nXLVII Feb. 3, 2013 Mercedes-Benz Superdome (New Orleans)Baltimore 34, San Francisco 31\\nXLVIII Feb. 2, 2014 MetLife Stadium (East Rutherford, N.J.)Seattle 43, Denver 8\\nXLIX Feb. 1, 2015 University of Phoenix Stadium (Glendale, Ariz.)New England 28, Seattle 24\\n50 Feb. 7, 2016 Levi's Stadium (Santa Clara, Calif.)Denver 24, Carolina 10\", 'score': 0.5837973}])]}\n"
     ]
    }
   ],
   "source": [
    "# TODO: Perform all necessary imports\n",
    "from langchain_community.tools.tavily_search import TavilySearchResults\n",
    "from langchain.agents import create_tool_calling_agent, AgentExecutor\n",
    "from langchain_core.prompts import ChatPromptTemplate\n",
    "from langchain_openai import ChatOpenAI\n",
    "\n",
    "# We need to use a LangChain LLM wrapper\n",
    "llm = ChatOpenAI(model=model_name)\n",
    "\n",
    "# TODO: 1. Instantiate the Tavily search tool\n",
    "search_tool = TavilySearchResults(\n",
    "    client=client,\n",
    "    model_name=model_name,\n",
    "    api_provider=api_provider,\n",
    ")\n",
    "tools = [search_tool]\n",
    "\n",
    "# TODO: 2. Create the prompt template\n",
    "# Make sure to include placeholders for 'input' and 'agent_scratchpad'\n",
    "prompt = ChatPromptTemplate.from_messages( \n",
    "    [\n",
    "        (\"system\", \"You are a helpful assistant that answers questions using search results.\"),\n",
    "        (\"human\", \"{input}\"),\n",
    "        (\"ai\", \"Here are the search results: {agent_scratchpad}\"),\n",
    "    ]\n",
    ")\n",
    "\n",
    "# TODO: 3. Create the agent\n",
    "agent = create_tool_calling_agent(\n",
    "    llm=llm,\n",
    "    tools=tools,\n",
    "    prompt=prompt,\n",
    ")\n",
    "\n",
    "# TODO: 4. Create the AgentExecutor\n",
    "agent_executor = AgentExecutor(\n",
    "    agent=agent,\n",
    "    tools=tools,\n",
    "    return_intermediate_steps=True,\n",
    "    verbose=True,\n",
    ")\n",
    "\n",
    "# TODO: 5. Invoke the agent with a question\n",
    "question = \"What was the score of the last Super Bowl?\"\n",
    "result = agent_executor.invoke({\"input\": question})\n",
    "\n",
    "print(result)"
   ]
  },
  {
   "cell_type": "markdown",
   "metadata": {},
   "source": [
    "### Challenge 2 (Intermediate): Building a Multi-Tool Agent\n",
    "\n",
    "**Task:** Create a more advanced LangChain agent that has access to *multiple* tools and must reason about which one to use for a given task.\n",
    "\n",
    "> **What is the `agent_scratchpad`?** This is the agent's internal monologue. It's where the agent keeps track of its thought process: which tool it's thinking of using, what the tool's output was, and what it plans to do next. It is an essential part of the prompt for the agent's reasoning process.\n",
    "\n",
    "**Instructions:**\n",
    "1.  Keep the `TavilySearchResults` tool from the previous challenge.\n",
    "2.  Define a new, custom tool for a calculator. You can do this by creating a simple Python function (e.g., `def multiply(a: int, b: int) -> int:`) and then decorating it with the `@tool` decorator from `langchain_core.tools`.\n",
    "3.  Create a new list of tools that includes both the search tool and your new calculator tool.\n",
    "4.  Create a new agent and `AgentExecutor` using this expanded list of tools.\n",
    "5.  Invoke the agent twice with different questions:\n",
    "    * A question that requires the calculator tool (e.g., \"What is 25 * 48?\").\n",
    "    * A question that requires the search tool (e.g., \"Who is the current CEO of Apple?\").\n",
    "6.  Observe how the agent correctly chooses which tool to use for each question.\n",
    "\n",
    "**Expected Quality:** A single agent that can dynamically decide which tool to use based on the user's query, demonstrating the core reasoning capability of an agent."
   ]
  },
  {
   "cell_type": "code",
   "execution_count": 10,
   "metadata": {},
   "outputs": [
    {
     "name": "stdout",
     "output_type": "stream",
     "text": [
      "\n",
      "\n",
      "\u001b[1m> Entering new AgentExecutor chain...\u001b[0m\n",
      "\u001b[32;1m\u001b[1;3m\n",
      "Invoking: `multiply` with `{'a': 25, 'b': 48}`\n",
      "\n",
      "\n",
      "\u001b[0m\u001b[36;1m\u001b[1;3m1200\u001b[0m\u001b[32;1m\u001b[1;3m25 * 48 = 1200.\u001b[0m\n",
      "\n",
      "\u001b[1m> Finished chain.\u001b[0m\n",
      "Query: What is 25 * 48?\n",
      "Result: {'input': 'What is 25 * 48?', 'output': '25 * 48 = 1200.', 'intermediate_steps': [(ToolAgentAction(tool='multiply', tool_input={'a': 25, 'b': 48}, log=\"\\nInvoking: `multiply` with `{'a': 25, 'b': 48}`\\n\\n\\n\", message_log=[AIMessageChunk(content='', additional_kwargs={'tool_calls': [{'index': 0, 'id': 'call_E7cvesbOy4WjlJIA0ftegxLb', 'function': {'arguments': '{\"a\":25,\"b\":48}', 'name': 'multiply'}, 'type': 'function'}]}, response_metadata={'finish_reason': 'tool_calls', 'model_name': 'gpt-4.1-2025-04-14', 'system_fingerprint': 'fp_51e1070cf2', 'service_tier': 'default'}, id='run--c58fc7cf-8a6e-488f-8e0e-7c2cdaeb6921', tool_calls=[{'name': 'multiply', 'args': {'a': 25, 'b': 48}, 'id': 'call_E7cvesbOy4WjlJIA0ftegxLb', 'type': 'tool_call'}], tool_call_chunks=[{'name': 'multiply', 'args': '{\"a\":25,\"b\":48}', 'id': 'call_E7cvesbOy4WjlJIA0ftegxLb', 'index': 0, 'type': 'tool_call_chunk'}])], tool_call_id='call_E7cvesbOy4WjlJIA0ftegxLb'), 1200)]}\n",
      "\n",
      "\n",
      "\n",
      "\u001b[1m> Entering new AgentExecutor chain...\u001b[0m\n",
      "\u001b[32;1m\u001b[1;3m\n",
      "Invoking: `tavily_search_results_json` with `{'query': 'current CEO of Apple'}`\n",
      "\n",
      "\n",
      "\u001b[0m\u001b[33;1m\u001b[1;3m[{'title': 'Tim Cook - Wikipedia', 'url': 'https://en.wikipedia.org/wiki/Tim_Cook', 'content': 'Timothy Donald Cook (born November 1, 1960) is an American business executive who is the current chief executive officer of Apple Inc. Cook had previously been', 'score': 0.98595}, {'title': 'Apple announces chief operating officer transition', 'url': 'https://www.apple.com/newsroom/2025/07/apple-announces-chief-operating-officer-transition/', 'content': 'Apple today announced Jeff Williams will transition his role as chief operating officer later this month to Sabih Khan.', 'score': 0.98552}, {'title': 'Apple Leadership', 'url': 'https://www.apple.com/leadership/', 'content': 'Executive Profiles · Tim Cook. CEO · Katherine Adams. Senior Vice President and. General Counsel · Eddy Cue. Senior Vice President Services · Craig Federighi.', 'score': 0.98514}, {'title': \"Apple's Tim Cook is under pressure—but there are a few ... - Fortune\", 'url': 'https://fortune.com/2025/07/22/apple-tim-cook-leadership-stock-outlook/', 'content': 'Looking at the big picture, some experts say Cook might remain CEO for years—and that might be the best course for Apple.', 'score': 0.98322}, {'title': 'Tim Cook | Biography, Apple CEO, & Business Executive - Britannica', 'url': 'https://www.britannica.com/money/Tim-Cook', 'content': 'Tim Cook (born 1960) is an American technology executive who has been the CEO of Apple Inc. since 2011.', 'score': 0.97366}]\u001b[0m\u001b[32;1m\u001b[1;3mThe current CEO of Apple is Tim Cook. He has held this position since 2011.\u001b[0m\n",
      "\n",
      "\u001b[1m> Finished chain.\u001b[0m\n",
      "Query: Who is the current CEO of Apple?\n",
      "Result: {'input': 'Who is the current CEO of Apple?', 'output': 'The current CEO of Apple is Tim Cook. He has held this position since 2011.', 'intermediate_steps': [(ToolAgentAction(tool='tavily_search_results_json', tool_input={'query': 'current CEO of Apple'}, log=\"\\nInvoking: `tavily_search_results_json` with `{'query': 'current CEO of Apple'}`\\n\\n\\n\", message_log=[AIMessageChunk(content='', additional_kwargs={'tool_calls': [{'index': 0, 'id': 'call_DlNLbQn9ZV17UcR3LMYRID38', 'function': {'arguments': '{\"query\":\"current CEO of Apple\"}', 'name': 'tavily_search_results_json'}, 'type': 'function'}]}, response_metadata={'finish_reason': 'tool_calls', 'model_name': 'gpt-4.1-2025-04-14', 'system_fingerprint': 'fp_51e1070cf2', 'service_tier': 'default'}, id='run--cee9873c-be66-4035-a1ad-7922132e446d', tool_calls=[{'name': 'tavily_search_results_json', 'args': {'query': 'current CEO of Apple'}, 'id': 'call_DlNLbQn9ZV17UcR3LMYRID38', 'type': 'tool_call'}], tool_call_chunks=[{'name': 'tavily_search_results_json', 'args': '{\"query\":\"current CEO of Apple\"}', 'id': 'call_DlNLbQn9ZV17UcR3LMYRID38', 'index': 0, 'type': 'tool_call_chunk'}])], tool_call_id='call_DlNLbQn9ZV17UcR3LMYRID38'), [{'title': 'Tim Cook - Wikipedia', 'url': 'https://en.wikipedia.org/wiki/Tim_Cook', 'content': 'Timothy Donald Cook (born November 1, 1960) is an American business executive who is the current chief executive officer of Apple Inc. Cook had previously been', 'score': 0.98595}, {'title': 'Apple announces chief operating officer transition', 'url': 'https://www.apple.com/newsroom/2025/07/apple-announces-chief-operating-officer-transition/', 'content': 'Apple today announced Jeff Williams will transition his role as chief operating officer later this month to Sabih Khan.', 'score': 0.98552}, {'title': 'Apple Leadership', 'url': 'https://www.apple.com/leadership/', 'content': 'Executive Profiles · Tim Cook. CEO · Katherine Adams. Senior Vice President and. General Counsel · Eddy Cue. Senior Vice President Services · Craig Federighi.', 'score': 0.98514}, {'title': \"Apple's Tim Cook is under pressure—but there are a few ... - Fortune\", 'url': 'https://fortune.com/2025/07/22/apple-tim-cook-leadership-stock-outlook/', 'content': 'Looking at the big picture, some experts say Cook might remain CEO for years—and that might be the best course for Apple.', 'score': 0.98322}, {'title': 'Tim Cook | Biography, Apple CEO, & Business Executive - Britannica', 'url': 'https://www.britannica.com/money/Tim-Cook', 'content': 'Tim Cook (born 1960) is an American technology executive who has been the CEO of Apple Inc. since 2011.', 'score': 0.97366}])]}\n"
     ]
    }
   ],
   "source": [
    "from langchain_core.tools import tool\n",
    "\n",
    "# TODO: 1. Define your custom calculator tool\n",
    "# Use the @tool decorator\n",
    "@tool\n",
    "def multiply(a: int, b: int) -> int:\n",
    "    \"\"\"Multiplies two integers together.\"\"\"\n",
    "    return a * b\n",
    "\n",
    "# TODO: 2. Create the new list of tools\n",
    "multi_tool_list = [multiply, search_tool]\n",
    "\n",
    "# TODO: 3. Create the new multi-tool agent and executor\n",
    "# The prompt and creation process are the same as before, just with the new tool list.\n",
    "multi_tool_agent = create_tool_calling_agent(\n",
    "    llm=llm,\n",
    "    tools=multi_tool_list,\n",
    "    prompt=prompt,\n",
    ")\n",
    "multi_tool_executor = AgentExecutor(\n",
    "    agent=multi_tool_agent,\n",
    "    tools=multi_tool_list,\n",
    "    return_intermediate_steps=True,\n",
    "    verbose=True,\n",
    ")\n",
    "\n",
    "# TODO: 4. Invoke the agent with a math question\n",
    "math_question = \"What is 25 * 48?\"\n",
    "math_result = multi_tool_executor.invoke({\"input\": math_question})\n",
    "print(f\"Query: {math_question}\\nResult: {math_result}\\n\")\n",
    "\n",
    "# TODO: 5. Invoke the agent with a search question\n",
    "search_question = \"Who is the current CEO of Apple?\"\n",
    "search_result = multi_tool_executor.invoke({\"input\": search_question})\n",
    "print(f\"Query: {search_question}\\nResult: {search_result}\")"
   ]
  },
  {
   "cell_type": "markdown",
   "metadata": {},
   "source": [
    "### Challenge 3 (Advanced): Improving Tool Selection with Better Docstrings\n",
    "\n",
    "**Task:** Improve the agent's ability to choose the correct tool by writing more descriptive docstrings.\n",
    "\n",
    "> **Tip:** The agent doesn't understand your Python code; it only understands the tool's name and its docstring! A clear, descriptive docstring like 'Multiplies two integers together' is critical for helping the agent know when to use the tool.\n",
    "\n",
    "**Instructions:**\n",
    "1.  Copy your `multiply` tool from the previous challenge.\n",
    "2.  Modify its docstring to be much more descriptive. For example: \"Use this tool for mathematical calculations involving multiplication. It takes two integers and returns their product.\"\n",
    "3.  Re-create your agent and executor with this updated tool.\n",
    "4.  Invoke the agent again with the math question and observe if its reasoning process (visible in the `verbose=True` output) is more direct.\n",
    "\n",
    "**Expected Quality:** A demonstration of how prompt engineering the docstring of a tool can significantly improve an agent's performance and reliability."
   ]
  },
  {
   "cell_type": "code",
   "execution_count": 11,
   "metadata": {},
   "outputs": [
    {
     "name": "stdout",
     "output_type": "stream",
     "text": [
      "\n",
      "\n",
      "\u001b[1m> Entering new AgentExecutor chain...\u001b[0m\n",
      "\u001b[32;1m\u001b[1;3m\n",
      "Invoking: `better_multiply` with `{'a': 25, 'b': 48}`\n",
      "\n",
      "\n",
      "\u001b[0m\u001b[36;1m\u001b[1;3m1200\u001b[0m\u001b[32;1m\u001b[1;3m25 multiplied by 48 equals 1200.\u001b[0m\n",
      "\n",
      "\u001b[1m> Finished chain.\u001b[0m\n",
      "Query: What is 25 * 48?\n",
      "Result: {'input': 'What is 25 * 48?', 'output': '25 multiplied by 48 equals 1200.', 'intermediate_steps': [(ToolAgentAction(tool='better_multiply', tool_input={'a': 25, 'b': 48}, log=\"\\nInvoking: `better_multiply` with `{'a': 25, 'b': 48}`\\n\\n\\n\", message_log=[AIMessageChunk(content='', additional_kwargs={'tool_calls': [{'index': 0, 'id': 'call_josv2MBQ75QiiXy2ZaZ5ZiWJ', 'function': {'arguments': '{\"a\":25,\"b\":48}', 'name': 'better_multiply'}, 'type': 'function'}]}, response_metadata={'finish_reason': 'tool_calls', 'model_name': 'gpt-4.1-2025-04-14', 'system_fingerprint': 'fp_799e4ca3f1', 'service_tier': 'default'}, id='run--56c78610-6642-4936-a89d-c6de35514503', tool_calls=[{'name': 'better_multiply', 'args': {'a': 25, 'b': 48}, 'id': 'call_josv2MBQ75QiiXy2ZaZ5ZiWJ', 'type': 'tool_call'}], tool_call_chunks=[{'name': 'better_multiply', 'args': '{\"a\":25,\"b\":48}', 'id': 'call_josv2MBQ75QiiXy2ZaZ5ZiWJ', 'index': 0, 'type': 'tool_call_chunk'}])], tool_call_id='call_josv2MBQ75QiiXy2ZaZ5ZiWJ'), 1200)]}\n"
     ]
    }
   ],
   "source": [
    "# TODO: 1. Redefine your custom tool with a more descriptive docstring.\n",
    "@tool\n",
    "def better_multiply(a: int, b: int) -> int:\n",
    "    \"\"\" Use this tool for mathematical calculations involving multiplication. It takes two integers and returns their product. \"\"\"\n",
    "    return a * b\n",
    "\n",
    "# TODO: 2. Re-create the tool list, agent, and executor with the improved tool.\n",
    "improved_tool_list = [better_multiply, search_tool]\n",
    "improved_agent = create_tool_calling_agent(\n",
    "    llm=llm,\n",
    "    tools=improved_tool_list,\n",
    "    prompt=prompt,\n",
    ")\n",
    "improved_executor = AgentExecutor(\n",
    "    agent=improved_agent,\n",
    "    tools=improved_tool_list,\n",
    "    return_intermediate_steps=True,\n",
    "    verbose=True,\n",
    ")\n",
    "\n",
    "# TODO: 3. Invoke the agent again.\n",
    "math_question = \"What is 25 * 48?\"\n",
    "improved_math_result = improved_executor.invoke({\"input\": math_question})\n",
    "print(f\"Query: {math_question}\\nResult: {improved_math_result}\")"
   ]
  },
  {
   "cell_type": "markdown",
   "metadata": {},
   "source": [
    "## Lab Conclusion\n",
    "\n",
    "Congratulations! You have successfully built your first AI agents. You've learned how to give agents tools to extend their capabilities and, most importantly, how to build an agent that can reason about which tool to use for a specific task. This is the foundational skill for all advanced agentic workflows we will explore in the coming days.\n",
    "\n",
    "> **Key Takeaway:** An agent's ability to reason and act depends on its understanding of its tools. The most critical part of creating a custom tool is writing a clear, descriptive docstring that tells the agent exactly what the tool does and when to use it."
   ]
  }
 ],
 "metadata": {
  "kernelspec": {
   "display_name": "Python 3",
   "language": "python",
   "name": "python3"
  },
  "language_info": {
   "codemirror_mode": {
    "name": "ipython",
    "version": 3
   },
   "file_extension": ".py",
   "mimetype": "text/x-python",
   "name": "python",
   "nbconvert_exporter": "python",
   "pygments_lexer": "ipython3",
   "version": "3.11.13"
  }
 },
 "nbformat": 4,
 "nbformat_minor": 4
}
