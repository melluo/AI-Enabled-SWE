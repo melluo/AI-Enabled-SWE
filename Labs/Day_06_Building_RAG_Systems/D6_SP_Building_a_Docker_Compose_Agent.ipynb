{
 "cells": [
  {
   "cell_type": "markdown",
   "metadata": {},
   "source": [
    "# Day 6 - Self-Paced Practice: Building a Docker Compose Agent\n",
    "\n",
    "**Objective:** Reinforce the concepts of tool-using agents by building a simple agent that can interact with local Docker Compose files.\n",
    "\n",
    "**Estimated Time:** 45 minutes\n",
    "\n",
    "**Introduction:**\n",
    "A powerful use case for AI agents is interacting with local development environments. In this lab, you will build a simplified Docker Compose agent. It will have tools to read files from your local disk and use its reasoning ability to answer questions about your Docker setup. This is a practical example of how agents can become useful developer assistants."
   ]
  },
  {
   "cell_type": "markdown",
   "metadata": {},
   "source": [
    "## 1. Setup\n",
    "\n",
    "We will set up our environment and create a sample `docker-compose.yml` file for our agent to interact with. This file will be created in the root of the project directory."
   ]
  },
  {
   "cell_type": "code",
   "execution_count": null,
   "metadata": {},
   "outputs": [],
   "source": [
    "import sys\n",
    "import os\n",
    "\n",
    "# Add the project's root directory to the Python path\n",
    "try:\n",
    "    project_root = os.path.abspath(os.path.join(os.getcwd(), '..', '..'))\n",
    "except IndexError:\n",
    "    project_root = os.path.abspath(os.path.join(os.getcwd()))\n",
    "\n",
    "if project_root not in sys.path:\n",
    "    sys.path.insert(0, project_root)\n",
    "\n",
    "from langchain_core.tools import tool\n",
    "from typing import List\n",
    "from langchain.agents import create_tool_calling_agent, AgentExecutor\n",
    "from langchain_core.prompts import ChatPromptTemplate\n",
    "from langchain_openai import ChatOpenAI\n",
    "from utils import setup_llm_client, save_artifact\n",
    "\n",
    "client, model_name, api_provider = setup_llm_client(model_name=\"gpt-4o\")\n",
    "llm = ChatOpenAI(model=model_name)\n",
    "\n",
    "# Create a sample docker-compose file in the project root\n",
    "docker_compose_content = \"\"\"\n",
    "version: '3.8'\n",
    "services:\n",
    "  web:\n",
    "    image: 'nginx:latest'\n",
    "    ports:\n",
    "      - '8080:80'\n",
    "  database:\n",
    "    image: 'postgres:13'\n",
    "    environment:\n",
    "      POSTGRES_PASSWORD: mysecretpassword\n",
    "\"\"\"\n",
    "save_artifact(docker_compose_content, \"docker-compose.yml\")"
   ]
  },
  {
   "cell_type": "markdown",
   "metadata": {},
   "source": [
    "### \u2b50 Deeper Dive: The Local Environment as a Tool\n",
    "\n",
    "This lab demonstrates a profound concept in agentic AI: giving an agent the ability to interact with its **local environment**. While web search is powerful, agents that can read, write, and execute files on your machine are true developer assistants.\n",
    "\n",
    "Consider the possibilities:\n",
    "- An agent that can read your entire codebase to answer questions about how different modules interact.\n",
    "- An agent that can write new files (like boilerplate code or test cases) directly into your project.\n",
    "- An agent that can execute shell commands to run your test suite or start a development server.\n",
    "\n",
    "The tools you are building in this lab (`list_compose_files` and `read_compose_file`) are the first simple steps toward this advanced capability. The key is to create well-defined, safe functions that provide a secure bridge between the LLM's reasoning and your file system."
   ]
  },
  {
   "cell_type": "markdown",
   "metadata": {},
   "source": [
    "## 2. Your Task\n",
    "\n",
    "Build a LangChain agent that can list and read Docker Compose files in the project directory."
   ]
  },
  {
   "cell_type": "markdown",
   "metadata": {},
   "source": [
    "#### \ud83d\udca1 Pro-Tip: Precision in Tool Docstrings\n",
    "\n",
    "The agent's ability to choose the correct tool depends almost entirely on the tool's name and its docstring. Be precise and descriptive.\n",
    "\n",
    "- **Good:** `\"Lists all Docker Compose YAML files in the current directory.\"` This is clear and specific.\n",
    "- **Less Good:** `\"Lists files.\"` This is too vague. The agent doesn't know *what kind* of files or *where* to look.\n",
    "\n",
    "For tools that take arguments, like `read_compose_file(filename: str)`, the type hint (`: str`) and argument name (`filename`) are also crucial pieces of information that the agent uses to understand how to call the tool correctly."
   ]
  },
  {
   "cell_type": "code",
   "execution_count": null,
   "metadata": {},
   "outputs": [],
   "source": [
    "# --- Task 1: Define the Tools --- \n",
    "\n",
    "@tool\n",
    "def list_compose_files() -> List[str]:\n",
    "    \"\"\"Lists all Docker Compose YAML files in the project's root directory.\"\"\"\n",
    "    try:\n",
    "        files = os.listdir(project_root)\n",
    "        return [f for f in files if f.endswith(('.yml', '.yaml')) and 'docker-compose' in f]\n",
    "    except Exception as e:\n",
    "        return [f\"Error listing files: {e}\"]\n",
    "\n",
    "@tool\n",
    "def read_compose_file(filename: str) -> str:\n",
    "    \"\"\"Reads the content of a specified Docker Compose file from the project's root directory.\"\"\"\n",
    "    try:\n",
    "        filepath = os.path.join(project_root, filename)\n",
    "        with open(filepath, 'r') as f:\n",
    "            return f.read()\n",
    "    except FileNotFoundError:\n",
    "        return f\"Error: File '{filename}' not found.\"\n",
    "    except Exception as e:\n",
    "        return f\"Error reading file: {e}\"\n",
    "\n",
    "# --- Task 2: Create the Agent --- \n",
    "\n",
    "docker_tools = [list_compose_files, read_compose_file]\n",
    "\n",
    "docker_agent_prompt = ChatPromptTemplate.from_messages([\n",
    "    (\"system\", \"You are an expert assistant for Docker Compose. You can list and read compose files in the user's project directory.\"),\n",
    "    (\"user\", \"{input}\"),\n",
    "    (\"placeholder\", \"{agent_scratchpad}\"),\n",
    "])\n",
    "\n",
    "docker_agent = create_tool_calling_agent(llm, docker_tools, docker_agent_prompt)\n",
    "docker_agent_executor = AgentExecutor(agent=docker_agent, tools=docker_tools, verbose=True)\n",
    "\n",
    "# --- Task 3: Test the Agent --- \n",
    "\n",
    "print(\"--- Testing agent: Listing files ---\")\n",
    "list_result = docker_agent_executor.invoke({\"input\": \"What docker-compose files are in this directory?\"})\n",
    "print(f\"\\nFinal Answer: {list_result['output']}\")\n",
    "\n",
    "print(\"\\n--- Testing agent: Reading a file to answer a question ---\")\n",
    "read_result = docker_agent_executor.invoke({\"input\": \"What services are defined in docker-compose.yml? And what ports are exposed for the web service?\"})\n",
    "print(f\"\\nFinal Answer: {read_result['output']}\")"
   ]
  },
  {
   "cell_type": "markdown",
   "metadata": {},
   "source": [
    "## Lab Conclusion\n",
    "\n",
    "Excellent! You have built a practical developer assistant that can interact with your local file system. This lab demonstrates how easily you can extend an agent's capabilities by giving it custom tools, allowing it to perform tasks far beyond simple text generation. You could imagine extending this agent with tools to run `docker-compose up` or `docker-compose down`, turning it into a fully functional DevOps assistant."
   ]
  }
 ],
 "metadata": {
  "kernelspec": {
   "display_name": "Python 3",
   "language": "python",
   "name": "python3"
  },
  "language_info": {
   "codemirror_mode": {
    "name": "ipython",
    "version": 3
   },
   "file_extension": ".py",
   "mimetype": "text/x-python",
   "name": "python",
   "nbconvert_exporter": "python",
   "pygments_lexer": "ipython3",
   "version": "3.11.5"
  }
 },
 "nbformat": 4,
 "nbformat_minor": 4
}